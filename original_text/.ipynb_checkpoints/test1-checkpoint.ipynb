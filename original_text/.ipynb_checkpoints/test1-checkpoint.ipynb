{
 "cells": [
  {
   "cell_type": "code",
   "execution_count": 2,
   "id": "91818584-9e0c-4a15-98f4-9036181ccc60",
   "metadata": {},
   "outputs": [],
   "source": [
    "import json\n",
    "import random"
   ]
  },
  {
   "cell_type": "code",
   "execution_count": 5,
   "id": "995cebca-16cd-4d3c-9336-f081b9a57d84",
   "metadata": {},
   "outputs": [
    {
     "name": "stdout",
     "output_type": "stream",
     "text": [
      "500 500\n",
      "803.052\n"
     ]
    }
   ],
   "source": [
    "file = \"gpt3.5_mixed_test.jsonl\"\n",
    "human_list = list()\n",
    "machine_list = list()\n",
    "l = 0\n",
    "i = 0\n",
    "with open(file, \"r\", encoding=\"utf-8\") as f:\n",
    "    for line in f.readlines():\n",
    "        line = json.loads(line.strip())\n",
    "        segments = [line['article']]\n",
    "        # segments = [line['article']]\n",
    "        segments = [segment.strip() for segment in segments if segment.strip() \\\n",
    "                    # and len(segment.strip().split()) >= 200 \\\n",
    "                    # and len(segment.strip().split()) < 500 \\\n",
    "                   ]\n",
    "        if line['label'] == \"human\":\n",
    "            for s in segments:\n",
    "                l += len(s.strip().split())\n",
    "                human_list.append(json.dumps({\"text\": s, \"label\": \"human\"}))\n",
    "        else:\n",
    "            for s in segments:\n",
    "                machine_list.append(json.dumps({\"text\": s, \"label\": \"machine\"}))\n",
    "print(len(human_list), len(machine_list))\n",
    "print(l/len(human_list))"
   ]
  },
  {
   "cell_type": "code",
   "execution_count": 13,
   "id": "3463d3b5-ec96-40fd-a10c-cb0ea910ac22",
   "metadata": {},
   "outputs": [
    {
     "name": "stdout",
     "output_type": "stream",
     "text": [
      "3994 4006\n",
      "329.74161241862794\n"
     ]
    }
   ],
   "source": [
    "file = \"hc3_train.json\"\n",
    "hc3human_list = list()\n",
    "hc3machine_list = list()\n",
    "l = 0\n",
    "with open(file, \"r\", encoding=\"utf-8\") as f:\n",
    "    for line in f.readlines():\n",
    "        line = json.loads(line.strip())\n",
    "        l += len(line['text'].split())\n",
    "        if line['label'] == \"hc3human\":\n",
    "            hc3human_list.append(json.dumps({\"text\": line['text'], \"label\": \"hc3human\"}))\n",
    "        else:\n",
    "            hc3machine_list.append(json.dumps({\"text\": line['text'], \"label\": \"hc3chatgpt\"}))\n",
    "print(len(hc3human_list), len(hc3machine_list))\n",
    "print(l/len(hc3human_list))"
   ]
  },
  {
   "cell_type": "code",
   "execution_count": 14,
   "id": "141333c1-a32d-4665-b67f-ea591d2e6568",
   "metadata": {},
   "outputs": [
    {
     "name": "stdout",
     "output_type": "stream",
     "text": [
      "4800\n"
     ]
    }
   ],
   "source": [
    "# 把hc3human, hc3chatgpt, gpt3.5machin 混合起来\n",
    "N = 1600\n",
    "sample_list = random.sample(hc3human_list, N) + random.sample(hc3machine_list, N) + random.sample(machine_list, N)\n",
    "random.shuffle(sample_list) \n",
    "print(len(sample_list))"
   ]
  },
  {
   "cell_type": "code",
   "execution_count": 15,
   "id": "4746b6cd-3e7e-449d-bfef-4648a33e8145",
   "metadata": {},
   "outputs": [],
   "source": [
    "with open(\"mix_train.json\", \"w\", encoding = 'utf-8') as w:\n",
    "    for i in sample_list:\n",
    "        w.write(i)\n",
    "        w.write('\\n')"
   ]
  },
  {
   "cell_type": "code",
   "execution_count": null,
   "id": "66aaab00-8621-4034-9cad-caf44128d407",
   "metadata": {},
   "outputs": [],
   "source": []
  }
 ],
 "metadata": {
  "kernelspec": {
   "display_name": "Python 3 (ipykernel)",
   "language": "python",
   "name": "python3"
  },
  "language_info": {
   "codemirror_mode": {
    "name": "ipython",
    "version": 3
   },
   "file_extension": ".py",
   "mimetype": "text/x-python",
   "name": "python",
   "nbconvert_exporter": "python",
   "pygments_lexer": "ipython3",
   "version": "3.8.10"
  }
 },
 "nbformat": 4,
 "nbformat_minor": 5
}
