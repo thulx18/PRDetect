{
 "cells": [
  {
   "cell_type": "code",
   "execution_count": 3,
   "metadata": {},
   "outputs": [],
   "source": [
    "import json\n",
    "import random"
   ]
  },
  {
   "cell_type": "code",
   "execution_count": 1,
   "metadata": {},
   "outputs": [],
   "source": [
    "# file = \"grover_train.jsonl\"\n",
    "# with open(file, \"r\", encoding=\"utf-8\") as f:\n",
    "#     with open(file.replace(\".jsonl\", \".json\"), \"w\", encoding = \"utf-8\") as w:\n",
    "#         for line in f.readlines():\n",
    "#             line = json.loads(line.strip())\n",
    "#             w.write(json.dumps({\"text\": line['article'], \"label\": line['label']}))\n",
    "#             w.write(\"\\n\")"
   ]
  },
  {
   "cell_type": "code",
   "execution_count": 24,
   "metadata": {},
   "outputs": [
    {
     "name": "stdout",
     "output_type": "stream",
     "text": [
      "1586 376\n"
     ]
    }
   ],
   "source": [
    "file = \"gpt3.5_mixed_test.jsonl\"\n",
    "human_list = list()\n",
    "machine_list = list()\n",
    "with open(file, \"r\", encoding=\"utf-8\") as f:\n",
    "    for line in f.readlines():\n",
    "        line = json.loads(line.strip())\n",
    "        segments = line['article'].split('\\n')\n",
    "        segments = [segment.strip() for segment in segments if segment.strip() \\\n",
    "                    and len(segment.strip().split()) >= 10 \\\n",
    "                    and len(segment.strip().split()) < 20 \\\n",
    "                   ]\n",
    "        if line['label'] == \"human\":\n",
    "            for s in segments:\n",
    "                human_list.append(json.dumps({\"text\": s, \"label\": \"human\"}))\n",
    "        else:\n",
    "            for s in segments:\n",
    "                machine_list.append(json.dumps({\"text\": s, \"label\": \"machine\"}))\n",
    "print(len(human_list), len(machine_list))"
   ]
  },
  {
   "cell_type": "code",
   "execution_count": 25,
   "metadata": {},
   "outputs": [
    {
     "name": "stdout",
     "output_type": "stream",
     "text": [
      "200\n"
     ]
    }
   ],
   "source": [
    "sample_list = random.sample(human_list, 100) + random.sample(machine_list, 100)\n",
    "random.shuffle(sample_list)\n",
    "print(len(sample_list))\n",
    "with open(file.replace(\".jsonl\", \"_10_20.json\"), \"w\", encoding = \"utf-8\") as w:\n",
    "    for s in sample_list:\n",
    "        w.write(s)\n",
    "        w.write('\\n')"
   ]
  },
  {
   "cell_type": "code",
   "execution_count": null,
   "metadata": {},
   "outputs": [],
   "source": []
  }
 ],
 "metadata": {
  "interpreter": {
   "hash": "e169789a8a24bd293e0e567b1a4f7ab47d7e5c50178991eeca607254e2c130d4"
  },
  "kernelspec": {
   "display_name": "Python 3 (ipykernel)",
   "language": "python",
   "name": "python3"
  },
  "language_info": {
   "codemirror_mode": {
    "name": "ipython",
    "version": 3
   },
   "file_extension": ".py",
   "mimetype": "text/x-python",
   "name": "python",
   "nbconvert_exporter": "python",
   "pygments_lexer": "ipython3",
   "version": "3.8.10"
  }
 },
 "nbformat": 4,
 "nbformat_minor": 4
}
