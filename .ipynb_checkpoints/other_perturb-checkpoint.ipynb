{
 "cells": [
  {
   "cell_type": "code",
   "execution_count": 1,
   "metadata": {},
   "outputs": [],
   "source": [
    "import re\n",
    "import json\n",
    "import random\n",
    "import spacy\n",
    "from tqdm import tqdm"
   ]
  },
  {
   "cell_type": "code",
   "execution_count": 3,
   "metadata": {},
   "outputs": [
    {
     "data": {
      "text/plain": [
       "1000"
      ]
     },
     "execution_count": 3,
     "metadata": {},
     "output_type": "execute_result"
    }
   ],
   "source": [
    "texts = []\n",
    "labels = []\n",
    "with open(\"original_text/gpt3.5_mixed_test_split.json\", \"r\", encoding=\"utf-8\") as f:\n",
    "    for line in f.readlines():\n",
    "        line = json.loads(line)\n",
    "        texts.append(line['text'])\n",
    "        labels.append(line['label'])\n",
    "len(texts)"
   ]
  },
  {
   "cell_type": "code",
   "execution_count": 5,
   "metadata": {},
   "outputs": [
    {
     "name": "stderr",
     "output_type": "stream",
     "text": [
      "100%|██████████| 1000/1000 [01:23<00:00, 12.00it/s]"
     ]
    },
    {
     "name": "stdout",
     "output_type": "stream",
     "text": [
      "36951\n"
     ]
    },
    {
     "name": "stderr",
     "output_type": "stream",
     "text": [
      "\n"
     ]
    }
   ],
   "source": [
    "# add mask\n",
    "mask_texts = list()\n",
    "vocab_set = set()\n",
    "P = 15\n",
    "nlp = spacy.load('en_core_web_sm')\n",
    "random.seed(42)\n",
    "for i in tqdm(range(len(texts))):\n",
    "    doc = nlp(texts[i])\n",
    "    mask_text = \" \".join([\"[[\"+token.text+\"]]\" if len(token.text) > 1 and random.random() < P/100 else token.text for token in doc])\n",
    "    mask_texts.append(mask_text)\n",
    "    for token in doc:\n",
    "        if len(token.text) > 1 and len(token.text)<=20:\n",
    "            vocab_set.add(token.text)\n",
    "print(len(vocab_set))"
   ]
  },
  {
   "cell_type": "code",
   "execution_count": 7,
   "metadata": {},
   "outputs": [
    {
     "name": "stderr",
     "output_type": "stream",
     "text": [
      "100%|██████████| 1000/1000 [02:37<00:00,  6.37it/s]\n"
     ]
    }
   ],
   "source": [
    "random.seed(42)\n",
    "pattern = r'\\[\\[(.*?)\\]\\]'\n",
    "with open(f\"./perturbed_text/gpt3.5_mixed_test_delete_{P}.json\", \"w\", encoding=\"utf-8\") as f1:\n",
    "    with open(f\"./perturbed_text/gpt3.5_mixed_test_repeat_{P}.json\", \"w\", encoding=\"utf-8\") as f2:\n",
    "        with open(f\"./perturbed_text/gpt3.5_mixed_test_insert_{P}.json\", \"w\", encoding=\"utf-8\") as f3:\n",
    "            with open(f\"./perturbed_text/gpt3.5_mixed_test_replace_{P}.json\", \"w\", encoding=\"utf-8\") as f4:\n",
    "                for i in tqdm(range(len(mask_texts))):\n",
    "                    text = mask_texts[i]\n",
    "                    delete_text = text\n",
    "                    repeat_text = text\n",
    "                    insert_text = text\n",
    "                    replace_text = text\n",
    "                    matches = re.findall(pattern, text)\n",
    "                    for match in matches:\n",
    "                        delete_text = delete_text.replace('[[' + match + ']]', '')\n",
    "                        repeat_text = repeat_text.replace('[[' + match + ']]', match + ' ' + match)\n",
    "                        insert_text = insert_text.replace('[[' + match + ']]', random.choice(list(vocab_set)) + ' ' + match)\n",
    "                        replace_text = replace_text.replace('[[' + match + ']]', random.choice(list(vocab_set)))\n",
    "                    insert_text = re.sub(r'\\s{2,}', ' ', insert_text)\n",
    "                    replace_text = re.sub(r'\\s{2,}', ' ', replace_text)\n",
    "                    delete_text = re.sub(r'\\s{2,}', ' ', delete_text)\n",
    "                    repeat_text = re.sub(r'\\s{2,}', ' ', repeat_text)\n",
    "                    f1.write(json.dumps({\"text\": delete_text, \"label\": labels[i]}))\n",
    "                    f1.write(\"\\n\")\n",
    "                    f2.write(json.dumps({\"text\": repeat_text, \"label\": labels[i]}))\n",
    "                    f2.write(\"\\n\")\n",
    "                    f3.write(json.dumps({\"text\": insert_text, \"label\": labels[i]}))\n",
    "                    f3.write(\"\\n\")\n",
    "                    f4.write(json.dumps({\"text\": replace_text, \"label\": labels[i]}))\n",
    "                    f4.write(\"\\n\")"
   ]
  },
  {
   "cell_type": "code",
   "execution_count": null,
   "metadata": {},
   "outputs": [],
   "source": []
  },
  {
   "cell_type": "code",
   "execution_count": null,
   "metadata": {},
   "outputs": [],
   "source": []
  }
 ],
 "metadata": {
  "interpreter": {
   "hash": "2f394aca7ca06fed1e6064aef884364492d7cdda3614a461e02e6407fc40ba69"
  },
  "kernelspec": {
   "display_name": "Python 3 (ipykernel)",
   "language": "python",
   "name": "python3"
  },
  "language_info": {
   "codemirror_mode": {
    "name": "ipython",
    "version": 3
   },
   "file_extension": ".py",
   "mimetype": "text/x-python",
   "name": "python",
   "nbconvert_exporter": "python",
   "pygments_lexer": "ipython3",
   "version": "3.8.10"
  }
 },
 "nbformat": 4,
 "nbformat_minor": 4
}
