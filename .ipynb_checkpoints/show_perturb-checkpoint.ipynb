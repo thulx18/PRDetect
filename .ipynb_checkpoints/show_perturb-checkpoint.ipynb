{
 "cells": [
  {
   "cell_type": "code",
   "execution_count": 1,
   "id": "c2dde2c3-57bf-4127-a2f6-e17543b83736",
   "metadata": {},
   "outputs": [],
   "source": [
    "import json\n",
    "from transformers import RobertaTokenizer, RobertaModel\n",
    "import matplotlib.pyplot as plt\n",
    "import torch\n",
    "from sklearn.manifold import TSNE"
   ]
  },
  {
   "cell_type": "code",
   "execution_count": 2,
   "id": "8a7edd12-c4f8-48ea-b10b-3a47a15fffbd",
   "metadata": {},
   "outputs": [],
   "source": [
    "model = RobertaModel.from_pretrained(\"./roberta-base/\")\n",
    "tokenizer = RobertaTokenizer(\"./roberta-base/vocab.json\", \"./roberta-base/merges.txt\", use_fast=False)"
   ]
  },
  {
   "cell_type": "code",
   "execution_count": 8,
   "id": "653afa9c-8fb8-452a-b649-975133557e1f",
   "metadata": {},
   "outputs": [
    {
     "name": "stdout",
     "output_type": "stream",
     "text": [
      "Do you use any other online features of Quicken?  How many unique ticker symbols do you have?  How often do you really need to update the prices?  You can always continue to use Quicken, and enter the stock prices by hand. Maybe update them once a month to get an idea of how your investments are doing. That should work indefinitely.\n",
      "Do you use any other on-line features of Quicken ?   How many singular ticker symbols do you have ?   How often do you really need to update the prices ?   You can always continue to use Quicken , and enter the stock prices by hand . Maybe update them once a month to get an idea of how your investments are doing . That should work indefinitely .\n"
     ]
    }
   ],
   "source": [
    "with open('original_text/hc3_test.json') as f:\n",
    "    line = f.readline()\n",
    "    text = json.loads(line.strip())['text']\n",
    "    print(text)\n",
    "with open('perturbed_text/hc3_test_adj_30_synonym_replace.json') as f:\n",
    "    line = f.readline()\n",
    "    per_text = json.loads(line.strip())['text']\n",
    "    print(per_text)"
   ]
  },
  {
   "cell_type": "code",
   "execution_count": 13,
   "id": "15d12493-925c-4586-9674-22eb4e2eb903",
   "metadata": {},
   "outputs": [
    {
     "data": {
      "image/png": "[encoded data removed]",
      "text/plain": [
       "<Figure size 432x288 with 1 Axes>"
      ]
     },
     "metadata": {
      "needs_background": "light"
     },
     "output_type": "display_data"
    }
   ],
   "source": [
    "L = min(len(text), len(per_text))\n",
    "inputs1 = tokenizer(text[:L], return_tensors='pt')\n",
    "inputs2 = tokenizer(per_text[:L], return_tensors='pt')\n",
    "\n",
    "# 获取词向量\n",
    "with torch.no_grad():\n",
    "    outputs1 = model(**inputs1)\n",
    "    outputs2 = model(**inputs2)\n",
    "\n",
    "# 选择最后一层的隐藏状态\n",
    "embeddings1 = outputs1.last_hidden_state[:, 1:-1, :]  # 排除[CLS]和[SEP]\n",
    "embeddings2 = outputs2.last_hidden_state[:, 1:-1, :]\n",
    "\n",
    "# 使用t-SNE进行降维\n",
    "tsne = TSNE(n_components=2, random_state=0)\n",
    "embeddings1_tsne = tsne.fit_transform(embeddings1[0].numpy())\n",
    "embeddings2_tsne = tsne.fit_transform(embeddings2[0].numpy())\n",
    "\n",
    "# 可视化\n",
    "plt.scatter(embeddings1_tsne[:, 0], embeddings1_tsne[:, 1])\n",
    "\n",
    "plt.scatter(embeddings2_tsne[:, 0], embeddings2_tsne[:, 1],color='red')\n",
    "plt.title('t-SNE')\n",
    "\n",
    "plt.savefig('tsne.png')"
   ]
  },
  {
   "cell_type": "code",
   "execution_count": null,
   "id": "08f5bff4-4184-4a66-8992-5a78859d3adb",
   "metadata": {},
   "outputs": [],
   "source": []
  }
 ],
 "metadata": {
  "kernelspec": {
   "display_name": "Python 3 (ipykernel)",
   "language": "python",
   "name": "python3"
  },
  "language_info": {
   "codemirror_mode": {
    "name": "ipython",
    "version": 3
   },
   "file_extension": ".py",
   "mimetype": "text/x-python",
   "name": "python",
   "nbconvert_exporter": "python",
   "pygments_lexer": "ipython3",
   "version": "3.8.10"
  }
 },
 "nbformat": 4,
 "nbformat_minor": 5
}
