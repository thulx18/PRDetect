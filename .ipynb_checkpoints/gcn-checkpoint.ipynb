{
 "cells": [
  {
   "cell_type": "markdown",
   "metadata": {},
   "source": [
    "#### 加载数据"
   ]
  },
  {
   "cell_type": "markdown",
   "metadata": {},
   "source": [
    "transformers==4.40.0\n",
    "\n",
    "torch==1.11.0+cu113\n",
    "\n",
    "torch-geometric==2.5.2\n",
    "\n",
    "torch-scatter==2.0.9\n",
    "\n",
    "torch-sparse==0.6.13"
   ]
  },
  {
   "cell_type": "markdown",
   "metadata": {},
   "source": [
    "#### 训练模型"
   ]
  },
  {
   "cell_type": "code",
   "execution_count": 1,
   "metadata": {},
   "outputs": [],
   "source": [
    "import pickle\n",
    "with open(\"/root/autodl-tmp/graph_data/gpt3.5_mixed_train_split.pkl\", \"rb\") as f:\n",
    "    hc3_train = pickle.load(f)\n",
    "with open(\"/root/autodl-tmp/graph_data/gpt3.5_mixed_val_split.pkl\", \"rb\") as f:\n",
    "    hc3_val = pickle.load(f)"
   ]
  },
  {
   "cell_type": "code",
   "execution_count": 2,
   "metadata": {},
   "outputs": [],
   "source": [
    "import torch\n",
    "import torch.nn as nn\n",
    "import torch.optim as optim\n",
    "import torch.nn.functional as F\n",
    "import numpy as np\n",
    "from datetime import datetime\n",
    "from torch_geometric.nn import GCNConv\n",
    "from torch_geometric.data import Data\n",
    "from torch.utils.tensorboard import SummaryWriter\n",
    "from datetime import datetime\n",
    "from tqdm import tqdm\n",
    "import time\n",
    "\n",
    "# 构建 GCN 模型\n",
    "class GCN2(nn.Module):\n",
    "    def __init__(self,  input_dim, hidden_dim, output_dim):\n",
    "        super(GCN2, self).__init__()\n",
    "        self.conv1 = GCNConv(input_dim, hidden_dim)\n",
    "        self.conv2 = GCNConv(hidden_dim, output_dim)\n",
    "        self.fc = nn.Linear(output_dim, 1) \n",
    "        self.dropout = nn.Dropout(0.5)\n",
    "        \n",
    "    def forward(self, data):\n",
    "        x, edge_index = data.x, data.edge_index\n",
    "        x = self.conv1(x, edge_index)\n",
    "        x = F.relu(x)\n",
    "        x = self.dropout(x)\n",
    "        x = self.conv2(x, edge_index)\n",
    "        x = F.relu(x)\n",
    "        x = self.dropout(x)\n",
    "        x = self.fc(x)\n",
    "        x = torch.mean(x, dim=0, keepdim=True)  \n",
    "        return torch.sigmoid(x)  \n",
    "\n",
    "class GCN4(nn.Module):\n",
    "    def __init__(self,  input_dim, hidden_dim, hidden_dim2, hidden_dim3, output_dim):\n",
    "        super(GCN4, self).__init__()\n",
    "        self.conv1 = GCNConv(input_dim, hidden_dim)\n",
    "        self.conv2 = GCNConv(hidden_dim, hidden_dim2)\n",
    "        self.conv3 = GCNConv(hidden_dim2, hidden_dim3)\n",
    "        self.conv4 = GCNConv(hidden_dim3, output_dim)\n",
    "        self.fc = nn.Linear(output_dim, 1) \n",
    "        self.dropout = nn.Dropout(0.5)\n",
    "        \n",
    "    def forward(self, data):\n",
    "        x, edge_index = data.x, data.edge_index\n",
    "        x = self.conv1(x, edge_index)\n",
    "        x = F.relu(x)\n",
    "        x = self.dropout(x)\n",
    "        x = self.conv2(x, edge_index)\n",
    "        x = F.relu(x)\n",
    "        x = self.dropout(x)\n",
    "        x = self.conv3(x, edge_index)\n",
    "        x = F.relu(x)\n",
    "        x = self.dropout(x)\n",
    "        x = self.conv4(x, edge_index)\n",
    "        x = F.relu(x)\n",
    "        x = self.dropout(x)\n",
    "        x = self.fc(x)\n",
    "        x = torch.mean(x, dim=0, keepdim=True)  \n",
    "        return torch.sigmoid(x)  "
   ]
  },
  {
   "cell_type": "code",
   "execution_count": 3,
   "metadata": {},
   "outputs": [],
   "source": [
    "seed = 2024\n",
    "dataset_name = 'gpt3.5'\n",
    "torch.manual_seed(seed)\n",
    "torch.cuda.manual_seed(seed)\n",
    "torch.cuda.manual_seed_all(seed) \n",
    "device = torch.device(\"cuda\" if torch.cuda.is_available() else \"cpu\")"
   ]
  },
  {
   "cell_type": "code",
   "execution_count": 4,
   "metadata": {},
   "outputs": [],
   "source": [
    "input_dim = 768  # 输入维度\n",
    "hidden_dim = 512  # 隐藏层维度\n",
    "hidden_dim2 = 256  # 隐藏层维度\n",
    "hidden_dim3 = 128  # 隐藏层维度\n",
    "output_dim = 64  # 输出类别数\n",
    "gcnmodel = GCN2(input_dim, hidden_dim2, output_dim).to(device)\n",
    "# gcnmodel = GCN4(input_dim, hidden_dim, hidden_dim2, hidden_dim3, output_dim)\n",
    "optimizer = optim.Adam(gcnmodel.parameters(), lr=0.0001)\n",
    "criterion = nn.BCELoss()"
   ]
  },
  {
   "cell_type": "code",
   "execution_count": 5,
   "metadata": {
    "tags": []
   },
   "outputs": [
    {
     "name": "stderr",
     "output_type": "stream",
     "text": [
      "epoch: 1, Training: 100%|██████████| 6000/6000 [00:14<00:00, 416.94it/s]\n"
     ]
    },
    {
     "name": "stdout",
     "output_type": "stream",
     "text": [
      "epoch: 1, train_loss: 0.3317128727087111, train_acc: 0.8598333333333333\n"
     ]
    },
    {
     "name": "stderr",
     "output_type": "stream",
     "text": [
      "epoch: 1, Validation: 100%|██████████| 1000/1000 [00:01<00:00, 924.74it/s]\n"
     ]
    },
    {
     "name": "stdout",
     "output_type": "stream",
     "text": [
      "epoch: 1, val_loss: 0.2067017246020332, val_acc: 0.921\n"
     ]
    },
    {
     "name": "stderr",
     "output_type": "stream",
     "text": [
      "epoch: 2, Training: 100%|██████████| 6000/6000 [00:14<00:00, 412.27it/s]\n"
     ]
    },
    {
     "name": "stdout",
     "output_type": "stream",
     "text": [
      "epoch: 2, train_loss: 0.1843417204907245, train_acc: 0.9253333333333333\n"
     ]
    },
    {
     "name": "stderr",
     "output_type": "stream",
     "text": [
      "epoch: 2, Validation: 100%|██████████| 1000/1000 [00:01<00:00, 906.81it/s]\n"
     ]
    },
    {
     "name": "stdout",
     "output_type": "stream",
     "text": [
      "epoch: 2, val_loss: 0.18241078009221018, val_acc: 0.928\n"
     ]
    },
    {
     "name": "stderr",
     "output_type": "stream",
     "text": [
      "epoch: 3, Training: 100%|██████████| 6000/6000 [00:13<00:00, 429.12it/s]\n"
     ]
    },
    {
     "name": "stdout",
     "output_type": "stream",
     "text": [
      "epoch: 3, train_loss: 0.15727009968686612, train_acc: 0.9363333333333334\n"
     ]
    },
    {
     "name": "stderr",
     "output_type": "stream",
     "text": [
      "epoch: 3, Validation: 100%|██████████| 1000/1000 [00:01<00:00, 921.13it/s]\n"
     ]
    },
    {
     "name": "stdout",
     "output_type": "stream",
     "text": [
      "epoch: 3, val_loss: 0.16768582736365767, val_acc: 0.934\n"
     ]
    },
    {
     "name": "stderr",
     "output_type": "stream",
     "text": [
      "epoch: 4, Training: 100%|██████████| 6000/6000 [00:14<00:00, 405.53it/s]\n"
     ]
    },
    {
     "name": "stdout",
     "output_type": "stream",
     "text": [
      "epoch: 4, train_loss: 0.1384437370926044, train_acc: 0.9451666666666667\n"
     ]
    },
    {
     "name": "stderr",
     "output_type": "stream",
     "text": [
      "epoch: 4, Validation: 100%|██████████| 1000/1000 [00:01<00:00, 887.14it/s]\n"
     ]
    },
    {
     "name": "stdout",
     "output_type": "stream",
     "text": [
      "epoch: 4, val_loss: 0.16682239029288914, val_acc: 0.933\n"
     ]
    },
    {
     "name": "stderr",
     "output_type": "stream",
     "text": [
      "epoch: 5, Training: 100%|██████████| 6000/6000 [00:14<00:00, 422.71it/s]\n"
     ]
    },
    {
     "name": "stdout",
     "output_type": "stream",
     "text": [
      "epoch: 5, train_loss: 0.12509411526314906, train_acc: 0.952\n"
     ]
    },
    {
     "name": "stderr",
     "output_type": "stream",
     "text": [
      "epoch: 5, Validation: 100%|██████████| 1000/1000 [00:01<00:00, 916.87it/s]\n"
     ]
    },
    {
     "name": "stdout",
     "output_type": "stream",
     "text": [
      "epoch: 5, val_loss: 0.1523254279697597, val_acc: 0.942\n"
     ]
    },
    {
     "name": "stderr",
     "output_type": "stream",
     "text": [
      "epoch: 6, Training: 100%|██████████| 6000/6000 [00:14<00:00, 402.81it/s]\n"
     ]
    },
    {
     "name": "stdout",
     "output_type": "stream",
     "text": [
      "epoch: 6, train_loss: 0.11428218914103852, train_acc: 0.9558333333333333\n"
     ]
    },
    {
     "name": "stderr",
     "output_type": "stream",
     "text": [
      "epoch: 6, Validation: 100%|██████████| 1000/1000 [00:01<00:00, 890.36it/s]\n"
     ]
    },
    {
     "name": "stdout",
     "output_type": "stream",
     "text": [
      "epoch: 6, val_loss: 0.15758468784888546, val_acc: 0.939\n"
     ]
    },
    {
     "name": "stderr",
     "output_type": "stream",
     "text": [
      "epoch: 7, Training: 100%|██████████| 6000/6000 [00:14<00:00, 410.59it/s]\n"
     ]
    },
    {
     "name": "stdout",
     "output_type": "stream",
     "text": [
      "epoch: 7, train_loss: 0.10549680555692294, train_acc: 0.9611666666666666\n"
     ]
    },
    {
     "name": "stderr",
     "output_type": "stream",
     "text": [
      "epoch: 7, Validation: 100%|██████████| 1000/1000 [00:01<00:00, 924.43it/s]\n"
     ]
    },
    {
     "name": "stdout",
     "output_type": "stream",
     "text": [
      "epoch: 7, val_loss: 0.15254263276795882, val_acc: 0.939\n"
     ]
    },
    {
     "name": "stderr",
     "output_type": "stream",
     "text": [
      "epoch: 8, Training: 100%|██████████| 6000/6000 [00:13<00:00, 429.74it/s]\n"
     ]
    },
    {
     "name": "stdout",
     "output_type": "stream",
     "text": [
      "epoch: 8, train_loss: 0.09750379501096498, train_acc: 0.965\n"
     ]
    },
    {
     "name": "stderr",
     "output_type": "stream",
     "text": [
      "epoch: 8, Validation: 100%|██████████| 1000/1000 [00:01<00:00, 922.86it/s]\n"
     ]
    },
    {
     "name": "stdout",
     "output_type": "stream",
     "text": [
      "epoch: 8, val_loss: 0.15094361955850377, val_acc: 0.941\n"
     ]
    },
    {
     "name": "stderr",
     "output_type": "stream",
     "text": [
      "epoch: 9, Training: 100%|██████████| 6000/6000 [00:15<00:00, 398.37it/s]\n"
     ]
    },
    {
     "name": "stdout",
     "output_type": "stream",
     "text": [
      "epoch: 9, train_loss: 0.09012403258761757, train_acc: 0.9665\n"
     ]
    },
    {
     "name": "stderr",
     "output_type": "stream",
     "text": [
      "epoch: 9, Validation: 100%|██████████| 1000/1000 [00:01<00:00, 920.07it/s]\n"
     ]
    },
    {
     "name": "stdout",
     "output_type": "stream",
     "text": [
      "epoch: 9, val_loss: 0.15831954561636563, val_acc: 0.938\n"
     ]
    },
    {
     "name": "stderr",
     "output_type": "stream",
     "text": [
      "epoch: 10, Training: 100%|██████████| 6000/6000 [00:15<00:00, 393.93it/s]\n"
     ]
    },
    {
     "name": "stdout",
     "output_type": "stream",
     "text": [
      "epoch: 10, train_loss: 0.08307746245707948, train_acc: 0.9688333333333333\n"
     ]
    },
    {
     "name": "stderr",
     "output_type": "stream",
     "text": [
      "epoch: 10, Validation: 100%|██████████| 1000/1000 [00:01<00:00, 872.98it/s]\n"
     ]
    },
    {
     "name": "stdout",
     "output_type": "stream",
     "text": [
      "epoch: 10, val_loss: 0.14659493730972095, val_acc: 0.942\n"
     ]
    },
    {
     "name": "stderr",
     "output_type": "stream",
     "text": [
      "epoch: 11, Training: 100%|██████████| 6000/6000 [00:14<00:00, 410.90it/s]\n"
     ]
    },
    {
     "name": "stdout",
     "output_type": "stream",
     "text": [
      "epoch: 11, train_loss: 0.07748806906158943, train_acc: 0.9721666666666666\n"
     ]
    },
    {
     "name": "stderr",
     "output_type": "stream",
     "text": [
      "epoch: 11, Validation: 100%|██████████| 1000/1000 [00:01<00:00, 923.53it/s]\n"
     ]
    },
    {
     "name": "stdout",
     "output_type": "stream",
     "text": [
      "epoch: 11, val_loss: 0.17975476404859864, val_acc: 0.931\n"
     ]
    },
    {
     "name": "stderr",
     "output_type": "stream",
     "text": [
      "epoch: 12, Training: 100%|██████████| 6000/6000 [00:15<00:00, 392.00it/s]\n"
     ]
    },
    {
     "name": "stdout",
     "output_type": "stream",
     "text": [
      "epoch: 12, train_loss: 0.07281944209764982, train_acc: 0.9726666666666667\n"
     ]
    },
    {
     "name": "stderr",
     "output_type": "stream",
     "text": [
      "epoch: 12, Validation: 100%|██████████| 1000/1000 [00:01<00:00, 912.95it/s]\n"
     ]
    },
    {
     "name": "stdout",
     "output_type": "stream",
     "text": [
      "epoch: 12, val_loss: 0.15889206210903575, val_acc: 0.937\n"
     ]
    },
    {
     "name": "stderr",
     "output_type": "stream",
     "text": [
      "epoch: 13, Training: 100%|██████████| 6000/6000 [00:15<00:00, 398.94it/s]\n"
     ]
    },
    {
     "name": "stdout",
     "output_type": "stream",
     "text": [
      "epoch: 13, train_loss: 0.0664739165856706, train_acc: 0.9763333333333334\n"
     ]
    },
    {
     "name": "stderr",
     "output_type": "stream",
     "text": [
      "epoch: 13, Validation: 100%|██████████| 1000/1000 [00:01<00:00, 921.37it/s]\n"
     ]
    },
    {
     "name": "stdout",
     "output_type": "stream",
     "text": [
      "epoch: 13, val_loss: 0.14615323005172387, val_acc: 0.945\n"
     ]
    },
    {
     "name": "stderr",
     "output_type": "stream",
     "text": [
      "epoch: 14, Training: 100%|██████████| 6000/6000 [00:14<00:00, 412.75it/s]\n"
     ]
    },
    {
     "name": "stdout",
     "output_type": "stream",
     "text": [
      "epoch: 14, train_loss: 0.06352481853373967, train_acc: 0.9783333333333334\n"
     ]
    },
    {
     "name": "stderr",
     "output_type": "stream",
     "text": [
      "epoch: 14, Validation: 100%|██████████| 1000/1000 [00:01<00:00, 919.08it/s]\n"
     ]
    },
    {
     "name": "stdout",
     "output_type": "stream",
     "text": [
      "epoch: 14, val_loss: 0.16286972736397218, val_acc: 0.938\n"
     ]
    },
    {
     "name": "stderr",
     "output_type": "stream",
     "text": [
      "epoch: 15, Training: 100%|██████████| 6000/6000 [00:14<00:00, 419.02it/s]\n"
     ]
    },
    {
     "name": "stdout",
     "output_type": "stream",
     "text": [
      "epoch: 15, train_loss: 0.05805639920717336, train_acc: 0.9815\n"
     ]
    },
    {
     "name": "stderr",
     "output_type": "stream",
     "text": [
      "epoch: 15, Validation: 100%|██████████| 1000/1000 [00:01<00:00, 898.99it/s]\n"
     ]
    },
    {
     "name": "stdout",
     "output_type": "stream",
     "text": [
      "epoch: 15, val_loss: 0.149984117932514, val_acc: 0.945\n"
     ]
    },
    {
     "name": "stderr",
     "output_type": "stream",
     "text": [
      "epoch: 16, Training: 100%|██████████| 6000/6000 [00:14<00:00, 414.87it/s]\n"
     ]
    },
    {
     "name": "stdout",
     "output_type": "stream",
     "text": [
      "epoch: 16, train_loss: 0.053043368824022524, train_acc: 0.9818333333333333\n"
     ]
    },
    {
     "name": "stderr",
     "output_type": "stream",
     "text": [
      "epoch: 16, Validation: 100%|██████████| 1000/1000 [00:01<00:00, 915.91it/s]\n"
     ]
    },
    {
     "name": "stdout",
     "output_type": "stream",
     "text": [
      "epoch: 16, val_loss: 0.16111757571320692, val_acc: 0.941\n"
     ]
    },
    {
     "name": "stderr",
     "output_type": "stream",
     "text": [
      "epoch: 17, Training: 100%|██████████| 6000/6000 [00:14<00:00, 403.62it/s]\n"
     ]
    },
    {
     "name": "stdout",
     "output_type": "stream",
     "text": [
      "epoch: 17, train_loss: 0.051166591188321356, train_acc: 0.9833333333333333\n"
     ]
    },
    {
     "name": "stderr",
     "output_type": "stream",
     "text": [
      "epoch: 17, Validation: 100%|██████████| 1000/1000 [00:01<00:00, 888.92it/s]\n"
     ]
    },
    {
     "name": "stdout",
     "output_type": "stream",
     "text": [
      "epoch: 17, val_loss: 0.1575117795466568, val_acc: 0.945\n"
     ]
    },
    {
     "name": "stderr",
     "output_type": "stream",
     "text": [
      "epoch: 18, Training: 100%|██████████| 6000/6000 [00:14<00:00, 410.16it/s]\n"
     ]
    },
    {
     "name": "stdout",
     "output_type": "stream",
     "text": [
      "epoch: 18, train_loss: 0.047487306599591834, train_acc: 0.9833333333333333\n"
     ]
    },
    {
     "name": "stderr",
     "output_type": "stream",
     "text": [
      "epoch: 18, Validation: 100%|██████████| 1000/1000 [00:01<00:00, 933.75it/s]\n"
     ]
    },
    {
     "name": "stdout",
     "output_type": "stream",
     "text": [
      "epoch: 18, val_loss: 0.16883645765450095, val_acc: 0.941\n"
     ]
    },
    {
     "name": "stderr",
     "output_type": "stream",
     "text": [
      "epoch: 19, Training: 100%|██████████| 6000/6000 [00:14<00:00, 428.08it/s]\n"
     ]
    },
    {
     "name": "stdout",
     "output_type": "stream",
     "text": [
      "epoch: 19, train_loss: 0.045046522942487704, train_acc: 0.9841666666666666\n"
     ]
    },
    {
     "name": "stderr",
     "output_type": "stream",
     "text": [
      "epoch: 19, Validation: 100%|██████████| 1000/1000 [00:01<00:00, 832.13it/s]\n"
     ]
    },
    {
     "name": "stdout",
     "output_type": "stream",
     "text": [
      "epoch: 19, val_loss: 0.1766342666039497, val_acc: 0.939\n"
     ]
    },
    {
     "name": "stderr",
     "output_type": "stream",
     "text": [
      "epoch: 20, Training: 100%|██████████| 6000/6000 [00:15<00:00, 394.36it/s]\n"
     ]
    },
    {
     "name": "stdout",
     "output_type": "stream",
     "text": [
      "epoch: 20, train_loss: 0.0416606475286322, train_acc: 0.9855\n"
     ]
    },
    {
     "name": "stderr",
     "output_type": "stream",
     "text": [
      "epoch: 20, Validation: 100%|██████████| 1000/1000 [00:01<00:00, 925.71it/s]\n"
     ]
    },
    {
     "name": "stdout",
     "output_type": "stream",
     "text": [
      "epoch: 20, val_loss: 0.13751791900050062, val_acc: 0.954\n"
     ]
    },
    {
     "name": "stderr",
     "output_type": "stream",
     "text": [
      "epoch: 21, Training: 100%|██████████| 6000/6000 [00:15<00:00, 396.00it/s]\n"
     ]
    },
    {
     "name": "stdout",
     "output_type": "stream",
     "text": [
      "epoch: 21, train_loss: 0.03881185760529716, train_acc: 0.987\n"
     ]
    },
    {
     "name": "stderr",
     "output_type": "stream",
     "text": [
      "epoch: 21, Validation: 100%|██████████| 1000/1000 [00:01<00:00, 923.81it/s]\n"
     ]
    },
    {
     "name": "stdout",
     "output_type": "stream",
     "text": [
      "epoch: 21, val_loss: 0.15233492611979188, val_acc: 0.949\n"
     ]
    },
    {
     "name": "stderr",
     "output_type": "stream",
     "text": [
      "epoch: 22, Training: 100%|██████████| 6000/6000 [00:13<00:00, 432.84it/s]\n"
     ]
    },
    {
     "name": "stdout",
     "output_type": "stream",
     "text": [
      "epoch: 22, train_loss: 0.03503070250885712, train_acc: 0.9883333333333333\n"
     ]
    },
    {
     "name": "stderr",
     "output_type": "stream",
     "text": [
      "epoch: 22, Validation: 100%|██████████| 1000/1000 [00:01<00:00, 922.88it/s]\n"
     ]
    },
    {
     "name": "stdout",
     "output_type": "stream",
     "text": [
      "epoch: 22, val_loss: 0.13542438574990007, val_acc: 0.954\n"
     ]
    },
    {
     "name": "stderr",
     "output_type": "stream",
     "text": [
      "epoch: 23, Training: 100%|██████████| 6000/6000 [00:14<00:00, 403.39it/s]\n"
     ]
    },
    {
     "name": "stdout",
     "output_type": "stream",
     "text": [
      "epoch: 23, train_loss: 0.033535517029938344, train_acc: 0.9903333333333333\n"
     ]
    },
    {
     "name": "stderr",
     "output_type": "stream",
     "text": [
      "epoch: 23, Validation: 100%|██████████| 1000/1000 [00:01<00:00, 920.38it/s]\n"
     ]
    },
    {
     "name": "stdout",
     "output_type": "stream",
     "text": [
      "epoch: 23, val_loss: 0.0950905996567799, val_acc: 0.969\n"
     ]
    },
    {
     "name": "stderr",
     "output_type": "stream",
     "text": [
      "epoch: 24, Training: 100%|██████████| 6000/6000 [00:13<00:00, 453.99it/s]\n"
     ]
    },
    {
     "name": "stdout",
     "output_type": "stream",
     "text": [
      "epoch: 24, train_loss: 0.030157196167234238, train_acc: 0.9903333333333333\n"
     ]
    },
    {
     "name": "stderr",
     "output_type": "stream",
     "text": [
      "epoch: 24, Validation: 100%|██████████| 1000/1000 [00:01<00:00, 921.91it/s]\n"
     ]
    },
    {
     "name": "stdout",
     "output_type": "stream",
     "text": [
      "epoch: 24, val_loss: 0.15087211898116715, val_acc: 0.952\n"
     ]
    },
    {
     "name": "stderr",
     "output_type": "stream",
     "text": [
      "epoch: 25, Training: 100%|██████████| 6000/6000 [00:14<00:00, 401.61it/s]\n"
     ]
    },
    {
     "name": "stdout",
     "output_type": "stream",
     "text": [
      "epoch: 25, train_loss: 0.02874738203812067, train_acc: 0.9905\n"
     ]
    },
    {
     "name": "stderr",
     "output_type": "stream",
     "text": [
      "epoch: 25, Validation: 100%|██████████| 1000/1000 [00:01<00:00, 906.12it/s]\n"
     ]
    },
    {
     "name": "stdout",
     "output_type": "stream",
     "text": [
      "epoch: 25, val_loss: 0.0842055003118576, val_acc: 0.969\n"
     ]
    },
    {
     "name": "stderr",
     "output_type": "stream",
     "text": [
      "epoch: 26, Training: 100%|██████████| 6000/6000 [00:15<00:00, 397.65it/s]\n"
     ]
    },
    {
     "name": "stdout",
     "output_type": "stream",
     "text": [
      "epoch: 26, train_loss: 0.02861915794432377, train_acc: 0.9913333333333333\n"
     ]
    },
    {
     "name": "stderr",
     "output_type": "stream",
     "text": [
      "epoch: 26, Validation: 100%|██████████| 1000/1000 [00:01<00:00, 879.49it/s]\n"
     ]
    },
    {
     "name": "stdout",
     "output_type": "stream",
     "text": [
      "epoch: 26, val_loss: 0.0782917860403326, val_acc: 0.973\n"
     ]
    },
    {
     "name": "stderr",
     "output_type": "stream",
     "text": [
      "epoch: 27, Training: 100%|██████████| 6000/6000 [00:14<00:00, 414.95it/s]\n"
     ]
    },
    {
     "name": "stdout",
     "output_type": "stream",
     "text": [
      "epoch: 27, train_loss: 0.025093607591062394, train_acc: 0.9913333333333333\n"
     ]
    },
    {
     "name": "stderr",
     "output_type": "stream",
     "text": [
      "epoch: 27, Validation: 100%|██████████| 1000/1000 [00:01<00:00, 927.40it/s]\n"
     ]
    },
    {
     "name": "stdout",
     "output_type": "stream",
     "text": [
      "epoch: 27, val_loss: 0.1523489919681401, val_acc: 0.953\n"
     ]
    },
    {
     "name": "stderr",
     "output_type": "stream",
     "text": [
      "epoch: 28, Training: 100%|██████████| 6000/6000 [00:14<00:00, 416.39it/s]\n"
     ]
    },
    {
     "name": "stdout",
     "output_type": "stream",
     "text": [
      "epoch: 28, train_loss: 0.025584121729745044, train_acc: 0.9918333333333333\n"
     ]
    },
    {
     "name": "stderr",
     "output_type": "stream",
     "text": [
      "epoch: 28, Validation: 100%|██████████| 1000/1000 [00:01<00:00, 919.54it/s]\n"
     ]
    },
    {
     "name": "stdout",
     "output_type": "stream",
     "text": [
      "epoch: 28, val_loss: 0.07992366907148862, val_acc: 0.972\n"
     ]
    },
    {
     "name": "stderr",
     "output_type": "stream",
     "text": [
      "epoch: 29, Training: 100%|██████████| 6000/6000 [00:14<00:00, 405.20it/s]\n"
     ]
    },
    {
     "name": "stdout",
     "output_type": "stream",
     "text": [
      "epoch: 29, train_loss: 0.02097310537332482, train_acc: 0.9938333333333333\n"
     ]
    },
    {
     "name": "stderr",
     "output_type": "stream",
     "text": [
      "epoch: 29, Validation: 100%|██████████| 1000/1000 [00:01<00:00, 920.05it/s]\n"
     ]
    },
    {
     "name": "stdout",
     "output_type": "stream",
     "text": [
      "epoch: 29, val_loss: 0.07927464390489207, val_acc: 0.975\n"
     ]
    },
    {
     "name": "stderr",
     "output_type": "stream",
     "text": [
      "epoch: 30, Training: 100%|██████████| 6000/6000 [00:14<00:00, 411.05it/s]\n"
     ]
    },
    {
     "name": "stdout",
     "output_type": "stream",
     "text": [
      "epoch: 30, train_loss: 0.023814305320411136, train_acc: 0.9928333333333333\n"
     ]
    },
    {
     "name": "stderr",
     "output_type": "stream",
     "text": [
      "epoch: 30, Validation: 100%|██████████| 1000/1000 [00:01<00:00, 887.14it/s]\n"
     ]
    },
    {
     "name": "stdout",
     "output_type": "stream",
     "text": [
      "epoch: 30, val_loss: 0.1588398212659016, val_acc: 0.958\n"
     ]
    },
    {
     "name": "stderr",
     "output_type": "stream",
     "text": [
      "epoch: 31, Training: 100%|██████████| 6000/6000 [00:13<00:00, 433.53it/s]\n"
     ]
    },
    {
     "name": "stdout",
     "output_type": "stream",
     "text": [
      "epoch: 31, train_loss: 0.020727348430683263, train_acc: 0.9935\n"
     ]
    },
    {
     "name": "stderr",
     "output_type": "stream",
     "text": [
      "epoch: 31, Validation: 100%|██████████| 1000/1000 [00:01<00:00, 885.09it/s]\n"
     ]
    },
    {
     "name": "stdout",
     "output_type": "stream",
     "text": [
      "epoch: 31, val_loss: 0.3932828428197518, val_acc: 0.923\n"
     ]
    },
    {
     "name": "stderr",
     "output_type": "stream",
     "text": [
      "epoch: 32, Training: 100%|██████████| 6000/6000 [00:14<00:00, 411.42it/s]\n"
     ]
    },
    {
     "name": "stdout",
     "output_type": "stream",
     "text": [
      "epoch: 32, train_loss: 0.022001310543557886, train_acc: 0.9936666666666667\n"
     ]
    },
    {
     "name": "stderr",
     "output_type": "stream",
     "text": [
      "epoch: 32, Validation: 100%|██████████| 1000/1000 [00:01<00:00, 914.89it/s]\n"
     ]
    },
    {
     "name": "stdout",
     "output_type": "stream",
     "text": [
      "epoch: 32, val_loss: 0.07414237111204434, val_acc: 0.978\n"
     ]
    },
    {
     "name": "stderr",
     "output_type": "stream",
     "text": [
      "epoch: 33, Training: 100%|██████████| 6000/6000 [00:14<00:00, 409.88it/s]\n"
     ]
    },
    {
     "name": "stdout",
     "output_type": "stream",
     "text": [
      "epoch: 33, train_loss: 0.02004309225221597, train_acc: 0.9935\n"
     ]
    },
    {
     "name": "stderr",
     "output_type": "stream",
     "text": [
      "epoch: 33, Validation: 100%|██████████| 1000/1000 [00:01<00:00, 920.15it/s]\n"
     ]
    },
    {
     "name": "stdout",
     "output_type": "stream",
     "text": [
      "epoch: 33, val_loss: 0.3481888787246085, val_acc: 0.929\n"
     ]
    },
    {
     "name": "stderr",
     "output_type": "stream",
     "text": [
      "epoch: 34, Training: 100%|██████████| 6000/6000 [00:14<00:00, 420.28it/s]\n"
     ]
    },
    {
     "name": "stdout",
     "output_type": "stream",
     "text": [
      "epoch: 34, train_loss: 0.019030178527009223, train_acc: 0.995\n"
     ]
    },
    {
     "name": "stderr",
     "output_type": "stream",
     "text": [
      "epoch: 34, Validation: 100%|██████████| 1000/1000 [00:01<00:00, 917.21it/s]\n"
     ]
    },
    {
     "name": "stdout",
     "output_type": "stream",
     "text": [
      "epoch: 34, val_loss: 0.1063790812383599, val_acc: 0.969\n"
     ]
    },
    {
     "name": "stderr",
     "output_type": "stream",
     "text": [
      "epoch: 35, Training: 100%|██████████| 6000/6000 [00:15<00:00, 395.61it/s]\n"
     ]
    },
    {
     "name": "stdout",
     "output_type": "stream",
     "text": [
      "epoch: 35, train_loss: 0.018243067838416307, train_acc: 0.994\n"
     ]
    },
    {
     "name": "stderr",
     "output_type": "stream",
     "text": [
      "epoch: 35, Validation: 100%|██████████| 1000/1000 [00:01<00:00, 921.53it/s]\n"
     ]
    },
    {
     "name": "stdout",
     "output_type": "stream",
     "text": [
      "epoch: 35, val_loss: 0.07613602158440726, val_acc: 0.98\n"
     ]
    },
    {
     "name": "stderr",
     "output_type": "stream",
     "text": [
      "epoch: 36, Training: 100%|██████████| 6000/6000 [00:15<00:00, 400.00it/s]\n"
     ]
    },
    {
     "name": "stdout",
     "output_type": "stream",
     "text": [
      "epoch: 36, train_loss: 0.014444600749182373, train_acc: 0.996\n"
     ]
    },
    {
     "name": "stderr",
     "output_type": "stream",
     "text": [
      "epoch: 36, Validation: 100%|██████████| 1000/1000 [00:01<00:00, 924.42it/s]\n"
     ]
    },
    {
     "name": "stdout",
     "output_type": "stream",
     "text": [
      "epoch: 36, val_loss: 0.18659135045284236, val_acc: 0.972\n"
     ]
    },
    {
     "name": "stderr",
     "output_type": "stream",
     "text": [
      "epoch: 37, Training: 100%|██████████| 6000/6000 [00:15<00:00, 397.19it/s]\n"
     ]
    },
    {
     "name": "stdout",
     "output_type": "stream",
     "text": [
      "epoch: 37, train_loss: 0.014151426656140859, train_acc: 0.996\n"
     ]
    },
    {
     "name": "stderr",
     "output_type": "stream",
     "text": [
      "epoch: 37, Validation: 100%|██████████| 1000/1000 [00:01<00:00, 916.58it/s]\n"
     ]
    },
    {
     "name": "stdout",
     "output_type": "stream",
     "text": [
      "epoch: 37, val_loss: 0.09375198996335539, val_acc: 0.974\n"
     ]
    },
    {
     "name": "stderr",
     "output_type": "stream",
     "text": [
      "epoch: 38, Training: 100%|██████████| 6000/6000 [00:13<00:00, 430.36it/s]\n"
     ]
    },
    {
     "name": "stdout",
     "output_type": "stream",
     "text": [
      "epoch: 38, train_loss: 0.015302775388887954, train_acc: 0.9956666666666667\n"
     ]
    },
    {
     "name": "stderr",
     "output_type": "stream",
     "text": [
      "epoch: 38, Validation: 100%|██████████| 1000/1000 [00:01<00:00, 918.98it/s]\n"
     ]
    },
    {
     "name": "stdout",
     "output_type": "stream",
     "text": [
      "epoch: 38, val_loss: 0.0847155271675315, val_acc: 0.975\n"
     ]
    },
    {
     "name": "stderr",
     "output_type": "stream",
     "text": [
      "epoch: 39, Training: 100%|██████████| 6000/6000 [00:14<00:00, 412.56it/s]\n"
     ]
    },
    {
     "name": "stdout",
     "output_type": "stream",
     "text": [
      "epoch: 39, train_loss: 0.015895210690359783, train_acc: 0.9948333333333333\n"
     ]
    },
    {
     "name": "stderr",
     "output_type": "stream",
     "text": [
      "epoch: 39, Validation: 100%|██████████| 1000/1000 [00:01<00:00, 901.34it/s]\n"
     ]
    },
    {
     "name": "stdout",
     "output_type": "stream",
     "text": [
      "epoch: 39, val_loss: 0.1876065002002825, val_acc: 0.974\n"
     ]
    },
    {
     "name": "stderr",
     "output_type": "stream",
     "text": [
      "epoch: 40, Training: 100%|██████████| 6000/6000 [00:14<00:00, 426.84it/s]\n"
     ]
    },
    {
     "name": "stdout",
     "output_type": "stream",
     "text": [
      "epoch: 40, train_loss: 0.014893286380229147, train_acc: 0.996\n"
     ]
    },
    {
     "name": "stderr",
     "output_type": "stream",
     "text": [
      "epoch: 40, Validation: 100%|██████████| 1000/1000 [00:01<00:00, 931.47it/s]"
     ]
    },
    {
     "name": "stdout",
     "output_type": "stream",
     "text": [
      "epoch: 40, val_loss: 0.11020838578334968, val_acc: 0.973\n",
      "运行时间: 627.5200390815735 秒\n"
     ]
    },
    {
     "name": "stderr",
     "output_type": "stream",
     "text": [
      "\n"
     ]
    }
   ],
   "source": [
    "train_len = len(hc3_train['y'])\n",
    "val_len = len(hc3_val['y'])\n",
    "epochs = 40\n",
    "train_loss = []\n",
    "val_loss = []\n",
    "train_acc = []\n",
    "val_acc = []\n",
    "val_max_acc = -1\n",
    "writer = SummaryWriter(f'logs/{dataset_name}_{seed}'+ datetime.now().strftime(\"%Y%m%d-%H%M%S\"))\n",
    "start_time = time.time()\n",
    "for epoch in range(epochs):\n",
    "    # 训练集\n",
    "    gcnmodel.train()\n",
    "    epoch_loss = 0.0\n",
    "    correct_predictions = 0\n",
    "    for i in tqdm(range(train_len),  f\"epoch: {epoch+1}, Training\"):\n",
    "        data = Data(x=hc3_train['all_token_embeddings'][i], edge_index=hc3_train['all_edge_index'][i], y=hc3_train['y'][i]).to(device)\n",
    "        optimizer.zero_grad()\n",
    "        outputs = gcnmodel(data)\n",
    "        loss = criterion(outputs, data.y.float().view(-1, 1))\n",
    "        # print(loss)\n",
    "        loss.backward()\n",
    "        optimizer.step()\n",
    "        epoch_loss += loss.item()\n",
    "        predictions = (outputs >= 0.5).long()  \n",
    "        correct_predictions += (predictions == data.y.view(-1, 1)).sum().item()\n",
    "    epoch_loss /= train_len\n",
    "    writer.add_scalar('Loss/train', epoch_loss, epoch)\n",
    "    epoch_acc = correct_predictions / train_len\n",
    "    writer.add_scalar('Acc/train', epoch_acc, epoch)\n",
    "    print(f\"epoch: {epoch+1}, train_loss: {epoch_loss}, train_acc: {epoch_acc}\")\n",
    "    train_loss.append(epoch_loss)\n",
    "    train_acc.append(epoch_acc)\n",
    "    \n",
    "    # 验证集\n",
    "    gcnmodel.eval()\n",
    "    epoch_loss = 0.0\n",
    "    correct_predictions = 0\n",
    "    all_predictions = []\n",
    "    with torch.no_grad():\n",
    "        for i in tqdm(range(val_len),  f\"epoch: {epoch+1}, Validation\"):\n",
    "            data = Data(x=hc3_val['all_token_embeddings'][i], edge_index=hc3_val['all_edge_index'][i], y=hc3_val['y'][i]).to(device)\n",
    "            outputs = gcnmodel(data)\n",
    "            loss = criterion(outputs, data.y.float().view(-1, 1))\n",
    "            epoch_loss += loss.item()\n",
    "            predictions = (outputs >= 0.5).long()\n",
    "            all_predictions.append(predictions)\n",
    "            correct_predictions += (predictions == data.y.view(-1, 1)).sum().item()\n",
    "    epoch_loss /= val_len\n",
    "    writer.add_scalar('Loss/val', epoch_loss, epoch)\n",
    "    epoch_acc = correct_predictions / val_len\n",
    "    writer.add_scalar('Acc/val', epoch_acc, epoch)\n",
    "    print(f\"epoch: {epoch+1}, val_loss: {epoch_loss}, val_acc: {epoch_acc}\")\n",
    "    val_loss.append(epoch_loss)\n",
    "    val_acc.append(epoch_acc)\n",
    "\n",
    "    if epoch_acc >= val_max_acc:\n",
    "        val_max_acc = epoch_acc\n",
    "        torch.save(gcnmodel.state_dict(), f'./model/{dataset_name}_gcn_model_{seed}.pth')\n",
    "end_time = time.time()\n",
    "elapsed_time = end_time - start_time\n",
    "print(f\"运行时间: {elapsed_time} 秒\")\n",
    "writer.close()"
   ]
  },
  {
   "cell_type": "markdown",
   "metadata": {},
   "source": [
    "#### 测试"
   ]
  },
  {
   "cell_type": "code",
   "execution_count": 13,
   "metadata": {},
   "outputs": [],
   "source": [
    "import pickle\n",
    "test_file = \"matched_gpt3.5_mixed_test_split\"\n",
    "with open(f\"/root/autodl-tmp/graph_data/{test_file}.pkl\", \"rb\") as f:\n",
    "    hc3_test = pickle.load(f)\n",
    "test_len = len(hc3_test['y'])"
   ]
  },
  {
   "cell_type": "code",
   "execution_count": 14,
   "metadata": {},
   "outputs": [
    {
     "name": "stderr",
     "output_type": "stream",
     "text": [
      "Test: 100%|██████████| 1000/1000 [00:01<00:00, 898.84it/s]"
     ]
    },
    {
     "name": "stdout",
     "output_type": "stream",
     "text": [
      "运行时间: 1.115060567855835 秒\n",
      "test_loss: 0.24888627747510203, test_acc: 0.954, test_f1: 0.9546351084812622\n"
     ]
    },
    {
     "name": "stderr",
     "output_type": "stream",
     "text": [
      "\n"
     ]
    }
   ],
   "source": [
    "from sklearn.metrics import roc_auc_score, f1_score\n",
    "\n",
    "# test_gcnmodel = gcnmodel\n",
    "test_gcnmodel = GCN2(input_dim, hidden_dim2, output_dim).to(device)\n",
    "test_gcnmodel.load_state_dict(torch.load(f'./model/{dataset_name}_gcn_model_{seed}.pth'))\n",
    "test_gcnmodel.eval()\n",
    "test_loss = 0.0\n",
    "correct_predictions = 0\n",
    "test_pres = list()\n",
    "start_time = time.time()\n",
    "with torch.no_grad():\n",
    "    for i in tqdm(range(test_len),  f\"Test\"):\n",
    "        data = Data(x=hc3_test['all_token_embeddings'][i], edge_index=hc3_test['all_edge_index'][i], y=hc3_test['y'][i]).to(device)\n",
    "        outputs = test_gcnmodel(data)\n",
    "        test_pres.append(outputs.item())\n",
    "        loss = criterion(outputs, data.y.float().view(-1, 1))\n",
    "        test_loss += loss.item()\n",
    "        predictions = (outputs >= 0.5).long()\n",
    "        correct_predictions += (predictions == data.y.view(-1, 1)).sum().item()\n",
    "end_time = time.time()\n",
    "elapsed_time = end_time - start_time\n",
    "print(f\"运行时间: {elapsed_time} 秒\")\n",
    "y_pred = [1 if prob >= 0.5 else 0 for prob in test_pres]\n",
    "y_true = hc3_test['y'].view(-1, 1)\n",
    "test_loss /= test_len\n",
    "test_acc = correct_predictions / test_len\n",
    "test_f1 = f1_score(y_true, y_pred)\n",
    "print(f\"test_loss: {test_loss}, test_acc: {test_acc}, test_f1: {test_f1}\")"
   ]
  },
  {
   "cell_type": "code",
   "execution_count": 15,
   "metadata": {},
   "outputs": [
    {
     "data": {
      "text/plain": [
       "0.988476"
      ]
     },
     "execution_count": 15,
     "metadata": {},
     "output_type": "execute_result"
    }
   ],
   "source": [
    "auc = roc_auc_score(hc3_test['y'], test_pres)\n",
    "auc"
   ]
  },
  {
   "cell_type": "code",
   "execution_count": 16,
   "metadata": {},
   "outputs": [],
   "source": [
    "with open(f\"/root/autodl-tmp/result/test_result.txt\", \"a\", encoding=\"utf-8\") as w:\n",
    "    w.write(f\"{test_file}\\t acc: {test_acc}\\t auc: {auc}\\t f1: {test_f1}\\t seed: {seed}\\t{datetime.now()}\\n\")"
   ]
  },
  {
   "cell_type": "code",
   "execution_count": null,
   "metadata": {},
   "outputs": [],
   "source": []
  }
 ],
 "metadata": {
  "kernelspec": {
   "display_name": "Python 3 (ipykernel)",
   "language": "python",
   "name": "python3"
  },
  "language_info": {
   "codemirror_mode": {
    "name": "ipython",
    "version": 3
   },
   "file_extension": ".py",
   "mimetype": "text/x-python",
   "name": "python",
   "nbconvert_exporter": "python",
   "pygments_lexer": "ipython3",
   "version": "3.8.10"
  }
 },
 "nbformat": 4,
 "nbformat_minor": 4
}
