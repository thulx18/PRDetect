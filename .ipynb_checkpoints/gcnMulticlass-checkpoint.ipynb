{
 "cells": [
  {
   "cell_type": "markdown",
   "metadata": {},
   "source": [
    "#### 加载数据"
   ]
  },
  {
   "cell_type": "markdown",
   "metadata": {},
   "source": [
    "transformers==4.40.0\n",
    "\n",
    "torch==1.11.0+cu113\n",
    "\n",
    "torch-geometric==2.5.2\n",
    "\n",
    "torch-scatter==2.0.9\n",
    "\n",
    "torch-sparse==0.6.13"
   ]
  },
  {
   "cell_type": "code",
   "execution_count": 6,
   "metadata": {},
   "outputs": [],
   "source": [
    "import pickle\n",
    "with open(\"/root/autodl-tmp/graph_data/mix_train.pkl\", \"rb\") as f:\n",
    "    hc3_train = pickle.load(f)\n",
    "with open(\"/root/autodl-tmp/graph_data/mix_val.pkl\", \"rb\") as f:\n",
    "    hc3_val = pickle.load(f)"
   ]
  },
  {
   "cell_type": "markdown",
   "metadata": {},
   "source": [
    "#### 训练模型"
   ]
  },
  {
   "cell_type": "code",
   "execution_count": 7,
   "metadata": {},
   "outputs": [],
   "source": [
    "import torch\n",
    "import torch.nn as nn\n",
    "import torch.optim as optim\n",
    "import torch.nn.functional as F\n",
    "import numpy as np\n",
    "from datetime import datetime\n",
    "from torch_geometric.nn import GCNConv\n",
    "from torch_geometric.data import Data\n",
    "from torch.utils.tensorboard import SummaryWriter\n",
    "from datetime import datetime\n",
    "from tqdm import tqdm\n",
    "\n",
    "# 构建 GCN 模型\n",
    "class GCN2(nn.Module):\n",
    "    def __init__(self,  input_dim, hidden_dim, output_dim):\n",
    "        super(GCN2, self).__init__()\n",
    "        self.conv1 = GCNConv(input_dim, hidden_dim)\n",
    "        self.conv2 = GCNConv(hidden_dim, output_dim)\n",
    "        self.fc = nn.Linear(output_dim, 1) \n",
    "        self.dropout = nn.Dropout(0.5)\n",
    "        \n",
    "    def forward(self, data):\n",
    "        x, edge_index = data.x, data.edge_index\n",
    "        x = self.conv1(x, edge_index)\n",
    "        x = F.relu(x)\n",
    "        x = self.dropout(x)\n",
    "        x = self.conv2(x, edge_index)\n",
    "        x = F.relu(x)\n",
    "        x = self.dropout(x)\n",
    "        x = self.fc(x)\n",
    "        x = torch.mean(x, dim=0, keepdim=True)  \n",
    "        return torch.sigmoid(x)  \n",
    "\n",
    "class GCN4(nn.Module):\n",
    "    def __init__(self,  input_dim, hidden_dim, hidden_dim2, hidden_dim3, output_dim):\n",
    "        super(GCN4, self).__init__()\n",
    "        self.conv1 = GCNConv(input_dim, hidden_dim)\n",
    "        self.conv2 = GCNConv(hidden_dim, hidden_dim2)\n",
    "        self.conv3 = GCNConv(hidden_dim2, hidden_dim3)\n",
    "        self.conv4 = GCNConv(hidden_dim3, output_dim)\n",
    "        self.fc = nn.Linear(output_dim, 1) \n",
    "        self.dropout = nn.Dropout(0.5)\n",
    "        \n",
    "    def forward(self, data):\n",
    "        x, edge_index = data.x, data.edge_index\n",
    "        x = self.conv1(x, edge_index)\n",
    "        x = F.relu(x)\n",
    "        x = self.dropout(x)\n",
    "        x = self.conv2(x, edge_index)\n",
    "        x = F.relu(x)\n",
    "        x = self.dropout(x)\n",
    "        x = self.conv3(x, edge_index)\n",
    "        x = F.relu(x)\n",
    "        x = self.dropout(x)\n",
    "        x = self.conv4(x, edge_index)\n",
    "        x = F.relu(x)\n",
    "        x = self.dropout(x)\n",
    "        x = self.fc(x)\n",
    "        x = torch.mean(x, dim=0, keepdim=True)  \n",
    "        return torch.sigmoid(x)  \n",
    "\n",
    "\n",
    "class GCNMulticlass(nn.Module):\n",
    "    def __init__(self, input_dim, hidden_dim1, hidden_dim2, num_classes):\n",
    "        super(GCNMulticlass, self).__init__()\n",
    "        self.conv1 = GCNConv(input_dim, hidden_dim1)\n",
    "        self.conv2 = GCNConv(hidden_dim1, hidden_dim2)  \n",
    "        self.fc = nn.Linear(hidden_dim2, num_classes)  \n",
    "        self.dropout = nn.Dropout(0.5)\n",
    "\n",
    "    def forward(self, data):\n",
    "        x, edge_index = data.x, data.edge_index\n",
    "        x = self.conv1(x, edge_index)\n",
    "        x = F.relu(x)\n",
    "        x = self.dropout(x)\n",
    "        \n",
    "        x = self.conv2(x, edge_index)\n",
    "        x = F.relu(x)\n",
    "        x = self.dropout(x)\n",
    "        \n",
    "        x = torch.mean(x, dim=0, keepdim=True)  \n",
    "        x = self.fc(x)\n",
    "        return F.log_softmax(x, dim=1) "
   ]
  },
  {
   "cell_type": "code",
   "execution_count": 8,
   "metadata": {},
   "outputs": [],
   "source": [
    "seed = 2024\n",
    "torch.manual_seed(seed)\n",
    "torch.cuda.manual_seed(seed)\n",
    "torch.cuda.manual_seed_all(seed) \n",
    "device = torch.device(\"cuda\" if torch.cuda.is_available() else \"cpu\")"
   ]
  },
  {
   "cell_type": "code",
   "execution_count": 9,
   "metadata": {},
   "outputs": [],
   "source": [
    "input_dim = 768  # 输入维度\n",
    "hidden_dim = 512  # 隐藏层维度\n",
    "hidden_dim2 = 256  # 隐藏层维度\n",
    "hidden_dim3 = 128  # 隐藏层维度\n",
    "output_dim = 64  # 输出类别数\n",
    "# gcnmodel = GCN2(input_dim, hidden_dim2, output_dim)\n",
    "# gcnmodel = GCN4(input_dim, hidden_dim, hidden_dim2, hidden_dim3, output_dim)\n",
    "gcnmodel = GCNMulticlass(input_dim, hidden_dim2, output_dim, 3)\n",
    "optimizer = optim.Adam(gcnmodel.parameters(), lr=0.0001)\n",
    "criterion = nn.BCELoss()\n",
    "CE_criterion = nn.CrossEntropyLoss()"
   ]
  },
  {
   "cell_type": "code",
   "execution_count": 10,
   "metadata": {
    "tags": []
   },
   "outputs": [
    {
     "name": "stderr",
     "output_type": "stream",
     "text": [
      "epoch: 1, Training: 100%|██████████| 4800/4800 [00:33<00:00, 143.48it/s]\n"
     ]
    },
    {
     "name": "stdout",
     "output_type": "stream",
     "text": [
      "epoch: 1, train_loss: 0.2994169792495111, train_acc: 0.8908333333333334\n"
     ]
    },
    {
     "name": "stderr",
     "output_type": "stream",
     "text": [
      "epoch: 1, Validation: 100%|██████████| 750/750 [00:01<00:00, 571.13it/s]\n"
     ]
    },
    {
     "name": "stdout",
     "output_type": "stream",
     "text": [
      "epoch: 1, val_loss: 0.21089619938431134, val_acc: 0.9413333333333334\n"
     ]
    },
    {
     "name": "stderr",
     "output_type": "stream",
     "text": [
      "epoch: 2, Training: 100%|██████████| 4800/4800 [00:33<00:00, 141.71it/s]\n"
     ]
    },
    {
     "name": "stdout",
     "output_type": "stream",
     "text": [
      "epoch: 2, train_loss: 0.14478376848672023, train_acc: 0.9485416666666666\n"
     ]
    },
    {
     "name": "stderr",
     "output_type": "stream",
     "text": [
      "epoch: 2, Validation: 100%|██████████| 750/750 [00:01<00:00, 560.47it/s]\n"
     ]
    },
    {
     "name": "stdout",
     "output_type": "stream",
     "text": [
      "epoch: 2, val_loss: 0.18525216186672272, val_acc: 0.9466666666666667\n"
     ]
    },
    {
     "name": "stderr",
     "output_type": "stream",
     "text": [
      "epoch: 3, Training: 100%|██████████| 4800/4800 [00:34<00:00, 139.96it/s]\n"
     ]
    },
    {
     "name": "stdout",
     "output_type": "stream",
     "text": [
      "epoch: 3, train_loss: 0.11689543746787791, train_acc: 0.958125\n"
     ]
    },
    {
     "name": "stderr",
     "output_type": "stream",
     "text": [
      "epoch: 3, Validation: 100%|██████████| 750/750 [00:01<00:00, 565.17it/s]\n"
     ]
    },
    {
     "name": "stdout",
     "output_type": "stream",
     "text": [
      "epoch: 3, val_loss: 0.16888778464727375, val_acc: 0.948\n"
     ]
    },
    {
     "name": "stderr",
     "output_type": "stream",
     "text": [
      "epoch: 4, Training: 100%|██████████| 4800/4800 [00:34<00:00, 139.76it/s]\n"
     ]
    },
    {
     "name": "stdout",
     "output_type": "stream",
     "text": [
      "epoch: 4, train_loss: 0.10146218700105641, train_acc: 0.9639583333333334\n"
     ]
    },
    {
     "name": "stderr",
     "output_type": "stream",
     "text": [
      "epoch: 4, Validation: 100%|██████████| 750/750 [00:01<00:00, 563.73it/s]\n"
     ]
    },
    {
     "name": "stdout",
     "output_type": "stream",
     "text": [
      "epoch: 4, val_loss: 0.16654337128551713, val_acc: 0.948\n"
     ]
    },
    {
     "name": "stderr",
     "output_type": "stream",
     "text": [
      "epoch: 5, Training: 100%|██████████| 4800/4800 [00:34<00:00, 140.45it/s]\n"
     ]
    },
    {
     "name": "stdout",
     "output_type": "stream",
     "text": [
      "epoch: 5, train_loss: 0.08698971800438018, train_acc: 0.9677083333333333\n"
     ]
    },
    {
     "name": "stderr",
     "output_type": "stream",
     "text": [
      "epoch: 5, Validation: 100%|██████████| 750/750 [00:01<00:00, 572.98it/s]\n"
     ]
    },
    {
     "name": "stdout",
     "output_type": "stream",
     "text": [
      "epoch: 5, val_loss: 0.14555561547953136, val_acc: 0.952\n"
     ]
    },
    {
     "name": "stderr",
     "output_type": "stream",
     "text": [
      "epoch: 6, Training: 100%|██████████| 4800/4800 [00:34<00:00, 140.14it/s]\n"
     ]
    },
    {
     "name": "stdout",
     "output_type": "stream",
     "text": [
      "epoch: 6, train_loss: 0.07793093202659755, train_acc: 0.9735416666666666\n"
     ]
    },
    {
     "name": "stderr",
     "output_type": "stream",
     "text": [
      "epoch: 6, Validation: 100%|██████████| 750/750 [00:01<00:00, 567.42it/s]\n"
     ]
    },
    {
     "name": "stdout",
     "output_type": "stream",
     "text": [
      "epoch: 6, val_loss: 0.14495961527808648, val_acc: 0.948\n"
     ]
    },
    {
     "name": "stderr",
     "output_type": "stream",
     "text": [
      "epoch: 7, Training: 100%|██████████| 4800/4800 [00:34<00:00, 140.65it/s]\n"
     ]
    },
    {
     "name": "stdout",
     "output_type": "stream",
     "text": [
      "epoch: 7, train_loss: 0.06884527367170334, train_acc: 0.97625\n"
     ]
    },
    {
     "name": "stderr",
     "output_type": "stream",
     "text": [
      "epoch: 7, Validation: 100%|██████████| 750/750 [00:01<00:00, 576.68it/s]\n"
     ]
    },
    {
     "name": "stdout",
     "output_type": "stream",
     "text": [
      "epoch: 7, val_loss: 0.12429745967857116, val_acc: 0.956\n"
     ]
    },
    {
     "name": "stderr",
     "output_type": "stream",
     "text": [
      "epoch: 8, Training: 100%|██████████| 4800/4800 [00:34<00:00, 140.19it/s]\n"
     ]
    },
    {
     "name": "stdout",
     "output_type": "stream",
     "text": [
      "epoch: 8, train_loss: 0.06275307984279067, train_acc: 0.979375\n"
     ]
    },
    {
     "name": "stderr",
     "output_type": "stream",
     "text": [
      "epoch: 8, Validation: 100%|██████████| 750/750 [00:01<00:00, 583.42it/s]\n"
     ]
    },
    {
     "name": "stdout",
     "output_type": "stream",
     "text": [
      "epoch: 8, val_loss: 0.116917938007285, val_acc: 0.956\n"
     ]
    },
    {
     "name": "stderr",
     "output_type": "stream",
     "text": [
      "epoch: 9, Training: 100%|██████████| 4800/4800 [00:34<00:00, 139.97it/s]\n"
     ]
    },
    {
     "name": "stdout",
     "output_type": "stream",
     "text": [
      "epoch: 9, train_loss: 0.055482873643700234, train_acc: 0.98125\n"
     ]
    },
    {
     "name": "stderr",
     "output_type": "stream",
     "text": [
      "epoch: 9, Validation: 100%|██████████| 750/750 [00:01<00:00, 567.85it/s]\n"
     ]
    },
    {
     "name": "stdout",
     "output_type": "stream",
     "text": [
      "epoch: 9, val_loss: 0.11710165786956918, val_acc: 0.9573333333333334\n"
     ]
    },
    {
     "name": "stderr",
     "output_type": "stream",
     "text": [
      "epoch: 10, Training: 100%|██████████| 4800/4800 [00:33<00:00, 141.46it/s]\n"
     ]
    },
    {
     "name": "stdout",
     "output_type": "stream",
     "text": [
      "epoch: 10, train_loss: 0.05035135756555907, train_acc: 0.9839583333333334\n"
     ]
    },
    {
     "name": "stderr",
     "output_type": "stream",
     "text": [
      "epoch: 10, Validation: 100%|██████████| 750/750 [00:01<00:00, 574.70it/s]\n"
     ]
    },
    {
     "name": "stdout",
     "output_type": "stream",
     "text": [
      "epoch: 10, val_loss: 0.1375429515156075, val_acc: 0.9533333333333334\n"
     ]
    },
    {
     "name": "stderr",
     "output_type": "stream",
     "text": [
      "epoch: 11, Training: 100%|██████████| 4800/4800 [00:33<00:00, 142.96it/s]\n"
     ]
    },
    {
     "name": "stdout",
     "output_type": "stream",
     "text": [
      "epoch: 11, train_loss: 0.04600701296759033, train_acc: 0.9852083333333334\n"
     ]
    },
    {
     "name": "stderr",
     "output_type": "stream",
     "text": [
      "epoch: 11, Validation: 100%|██████████| 750/750 [00:01<00:00, 570.16it/s]\n"
     ]
    },
    {
     "name": "stdout",
     "output_type": "stream",
     "text": [
      "epoch: 11, val_loss: 0.10374065902018265, val_acc: 0.9626666666666667\n"
     ]
    },
    {
     "name": "stderr",
     "output_type": "stream",
     "text": [
      "epoch: 12, Training: 100%|██████████| 4800/4800 [00:33<00:00, 142.26it/s]\n"
     ]
    },
    {
     "name": "stdout",
     "output_type": "stream",
     "text": [
      "epoch: 12, train_loss: 0.04007588800546101, train_acc: 0.9877083333333333\n"
     ]
    },
    {
     "name": "stderr",
     "output_type": "stream",
     "text": [
      "epoch: 12, Validation: 100%|██████████| 750/750 [00:01<00:00, 580.63it/s]\n"
     ]
    },
    {
     "name": "stdout",
     "output_type": "stream",
     "text": [
      "epoch: 12, val_loss: 0.11837128373757734, val_acc: 0.9586666666666667\n"
     ]
    },
    {
     "name": "stderr",
     "output_type": "stream",
     "text": [
      "epoch: 13, Training: 100%|██████████| 4800/4800 [00:33<00:00, 142.87it/s]\n"
     ]
    },
    {
     "name": "stdout",
     "output_type": "stream",
     "text": [
      "epoch: 13, train_loss: 0.03673444270114696, train_acc: 0.9889583333333334\n"
     ]
    },
    {
     "name": "stderr",
     "output_type": "stream",
     "text": [
      "epoch: 13, Validation: 100%|██████████| 750/750 [00:01<00:00, 581.14it/s]\n"
     ]
    },
    {
     "name": "stdout",
     "output_type": "stream",
     "text": [
      "epoch: 13, val_loss: 0.10449965068572074, val_acc: 0.9653333333333334\n"
     ]
    },
    {
     "name": "stderr",
     "output_type": "stream",
     "text": [
      "epoch: 14, Training: 100%|██████████| 4800/4800 [00:33<00:00, 142.12it/s]\n"
     ]
    },
    {
     "name": "stdout",
     "output_type": "stream",
     "text": [
      "epoch: 14, train_loss: 0.032505197579229775, train_acc: 0.9897916666666666\n"
     ]
    },
    {
     "name": "stderr",
     "output_type": "stream",
     "text": [
      "epoch: 14, Validation: 100%|██████████| 750/750 [00:01<00:00, 582.40it/s]\n"
     ]
    },
    {
     "name": "stdout",
     "output_type": "stream",
     "text": [
      "epoch: 14, val_loss: 0.13182477585787794, val_acc: 0.9586666666666667\n"
     ]
    },
    {
     "name": "stderr",
     "output_type": "stream",
     "text": [
      "epoch: 15, Training: 100%|██████████| 4800/4800 [00:34<00:00, 140.43it/s]\n"
     ]
    },
    {
     "name": "stdout",
     "output_type": "stream",
     "text": [
      "epoch: 15, train_loss: 0.030274932968942694, train_acc: 0.9910416666666667\n"
     ]
    },
    {
     "name": "stderr",
     "output_type": "stream",
     "text": [
      "epoch: 15, Validation: 100%|██████████| 750/750 [00:01<00:00, 577.45it/s]\n"
     ]
    },
    {
     "name": "stdout",
     "output_type": "stream",
     "text": [
      "epoch: 15, val_loss: 0.1396700254884724, val_acc: 0.9586666666666667\n"
     ]
    },
    {
     "name": "stderr",
     "output_type": "stream",
     "text": [
      "epoch: 16, Training: 100%|██████████| 4800/4800 [00:34<00:00, 137.65it/s]\n"
     ]
    },
    {
     "name": "stdout",
     "output_type": "stream",
     "text": [
      "epoch: 16, train_loss: 0.025538020256886167, train_acc: 0.9933333333333333\n"
     ]
    },
    {
     "name": "stderr",
     "output_type": "stream",
     "text": [
      "epoch: 16, Validation: 100%|██████████| 750/750 [00:01<00:00, 567.93it/s]\n"
     ]
    },
    {
     "name": "stdout",
     "output_type": "stream",
     "text": [
      "epoch: 16, val_loss: 0.13760220393896042, val_acc: 0.96\n"
     ]
    },
    {
     "name": "stderr",
     "output_type": "stream",
     "text": [
      "epoch: 17, Training: 100%|██████████| 4800/4800 [00:34<00:00, 139.83it/s]\n"
     ]
    },
    {
     "name": "stdout",
     "output_type": "stream",
     "text": [
      "epoch: 17, train_loss: 0.023228963741200072, train_acc: 0.9927083333333333\n"
     ]
    },
    {
     "name": "stderr",
     "output_type": "stream",
     "text": [
      "epoch: 17, Validation: 100%|██████████| 750/750 [00:01<00:00, 575.17it/s]\n"
     ]
    },
    {
     "name": "stdout",
     "output_type": "stream",
     "text": [
      "epoch: 17, val_loss: 0.14640885205289283, val_acc: 0.9573333333333334\n"
     ]
    },
    {
     "name": "stderr",
     "output_type": "stream",
     "text": [
      "epoch: 18, Training: 100%|██████████| 4800/4800 [00:33<00:00, 141.80it/s]\n"
     ]
    },
    {
     "name": "stdout",
     "output_type": "stream",
     "text": [
      "epoch: 18, train_loss: 0.021430755768538663, train_acc: 0.993125\n"
     ]
    },
    {
     "name": "stderr",
     "output_type": "stream",
     "text": [
      "epoch: 18, Validation: 100%|██████████| 750/750 [00:01<00:00, 581.16it/s]\n"
     ]
    },
    {
     "name": "stdout",
     "output_type": "stream",
     "text": [
      "epoch: 18, val_loss: 0.1596042228017097, val_acc: 0.956\n"
     ]
    },
    {
     "name": "stderr",
     "output_type": "stream",
     "text": [
      "epoch: 19, Training: 100%|██████████| 4800/4800 [00:33<00:00, 141.27it/s]\n"
     ]
    },
    {
     "name": "stdout",
     "output_type": "stream",
     "text": [
      "epoch: 19, train_loss: 0.01835657666195522, train_acc: 0.9945833333333334\n"
     ]
    },
    {
     "name": "stderr",
     "output_type": "stream",
     "text": [
      "epoch: 19, Validation: 100%|██████████| 750/750 [00:01<00:00, 573.00it/s]\n"
     ]
    },
    {
     "name": "stdout",
     "output_type": "stream",
     "text": [
      "epoch: 19, val_loss: 0.16002887532703008, val_acc: 0.9613333333333334\n"
     ]
    },
    {
     "name": "stderr",
     "output_type": "stream",
     "text": [
      "epoch: 20, Training: 100%|██████████| 4800/4800 [00:33<00:00, 141.44it/s]\n"
     ]
    },
    {
     "name": "stdout",
     "output_type": "stream",
     "text": [
      "epoch: 20, train_loss: 0.016151697234945896, train_acc: 0.9947916666666666\n"
     ]
    },
    {
     "name": "stderr",
     "output_type": "stream",
     "text": [
      "epoch: 20, Validation: 100%|██████████| 750/750 [00:01<00:00, 581.20it/s]\n"
     ]
    },
    {
     "name": "stdout",
     "output_type": "stream",
     "text": [
      "epoch: 20, val_loss: 0.1375656074130234, val_acc: 0.9653333333333334\n"
     ]
    },
    {
     "name": "stderr",
     "output_type": "stream",
     "text": [
      "epoch: 21, Training: 100%|██████████| 4800/4800 [00:34<00:00, 140.61it/s]\n"
     ]
    },
    {
     "name": "stdout",
     "output_type": "stream",
     "text": [
      "epoch: 21, train_loss: 0.016278241133570397, train_acc: 0.99375\n"
     ]
    },
    {
     "name": "stderr",
     "output_type": "stream",
     "text": [
      "epoch: 21, Validation: 100%|██████████| 750/750 [00:01<00:00, 548.44it/s]\n"
     ]
    },
    {
     "name": "stdout",
     "output_type": "stream",
     "text": [
      "epoch: 21, val_loss: 0.12109982117990553, val_acc: 0.968\n"
     ]
    },
    {
     "name": "stderr",
     "output_type": "stream",
     "text": [
      "epoch: 24, Training: 100%|██████████| 4800/4800 [00:33<00:00, 141.41it/s]\n"
     ]
    },
    {
     "name": "stdout",
     "output_type": "stream",
     "text": [
      "epoch: 24, train_loss: 0.012350959743515565, train_acc: 0.995625\n"
     ]
    },
    {
     "name": "stderr",
     "output_type": "stream",
     "text": [
      "epoch: 24, Validation: 100%|██████████| 750/750 [00:01<00:00, 576.37it/s]\n"
     ]
    },
    {
     "name": "stdout",
     "output_type": "stream",
     "text": [
      "epoch: 24, val_loss: 0.2090264196116416, val_acc: 0.952\n"
     ]
    },
    {
     "name": "stderr",
     "output_type": "stream",
     "text": [
      "epoch: 25, Training: 100%|██████████| 4800/4800 [00:34<00:00, 141.15it/s]\n"
     ]
    },
    {
     "name": "stdout",
     "output_type": "stream",
     "text": [
      "epoch: 25, train_loss: 0.009624322594257712, train_acc: 0.9975\n"
     ]
    },
    {
     "name": "stderr",
     "output_type": "stream",
     "text": [
      "epoch: 25, Validation: 100%|██████████| 750/750 [00:01<00:00, 568.67it/s]\n"
     ]
    },
    {
     "name": "stdout",
     "output_type": "stream",
     "text": [
      "epoch: 25, val_loss: 0.2581162045689492, val_acc: 0.9453333333333334\n"
     ]
    },
    {
     "name": "stderr",
     "output_type": "stream",
     "text": [
      "epoch: 26, Training: 100%|██████████| 4800/4800 [00:34<00:00, 141.10it/s]\n"
     ]
    },
    {
     "name": "stdout",
     "output_type": "stream",
     "text": [
      "epoch: 26, train_loss: 0.007993334995681823, train_acc: 0.998125\n"
     ]
    },
    {
     "name": "stderr",
     "output_type": "stream",
     "text": [
      "epoch: 26, Validation: 100%|██████████| 750/750 [00:01<00:00, 572.81it/s]\n"
     ]
    },
    {
     "name": "stdout",
     "output_type": "stream",
     "text": [
      "epoch: 26, val_loss: 0.13349657668306006, val_acc: 0.972\n"
     ]
    },
    {
     "name": "stderr",
     "output_type": "stream",
     "text": [
      "epoch: 27, Training: 100%|██████████| 4800/4800 [00:33<00:00, 142.18it/s]\n"
     ]
    },
    {
     "name": "stdout",
     "output_type": "stream",
     "text": [
      "epoch: 27, train_loss: 0.00984551222535738, train_acc: 0.996875\n"
     ]
    },
    {
     "name": "stderr",
     "output_type": "stream",
     "text": [
      "epoch: 27, Validation: 100%|██████████| 750/750 [00:01<00:00, 573.66it/s]\n"
     ]
    },
    {
     "name": "stdout",
     "output_type": "stream",
     "text": [
      "epoch: 27, val_loss: 0.15826526121184106, val_acc: 0.9586666666666667\n"
     ]
    },
    {
     "name": "stderr",
     "output_type": "stream",
     "text": [
      "epoch: 28, Training: 100%|██████████| 4800/4800 [00:34<00:00, 141.11it/s]\n"
     ]
    },
    {
     "name": "stdout",
     "output_type": "stream",
     "text": [
      "epoch: 28, train_loss: 0.007226035031706587, train_acc: 0.998125\n"
     ]
    },
    {
     "name": "stderr",
     "output_type": "stream",
     "text": [
      "epoch: 28, Validation: 100%|██████████| 750/750 [00:01<00:00, 577.09it/s]\n"
     ]
    },
    {
     "name": "stdout",
     "output_type": "stream",
     "text": [
      "epoch: 28, val_loss: 0.1729710191350542, val_acc: 0.9626666666666667\n"
     ]
    },
    {
     "name": "stderr",
     "output_type": "stream",
     "text": [
      "epoch: 29, Training: 100%|██████████| 4800/4800 [00:34<00:00, 140.03it/s]\n"
     ]
    },
    {
     "name": "stdout",
     "output_type": "stream",
     "text": [
      "epoch: 29, train_loss: 0.008916154261791051, train_acc: 0.9975\n"
     ]
    },
    {
     "name": "stderr",
     "output_type": "stream",
     "text": [
      "epoch: 29, Validation: 100%|██████████| 750/750 [00:01<00:00, 573.79it/s]\n"
     ]
    },
    {
     "name": "stdout",
     "output_type": "stream",
     "text": [
      "epoch: 29, val_loss: 0.25695445893220825, val_acc: 0.9493333333333334\n"
     ]
    },
    {
     "name": "stderr",
     "output_type": "stream",
     "text": [
      "epoch: 30, Training: 100%|██████████| 4800/4800 [00:34<00:00, 139.70it/s]\n"
     ]
    },
    {
     "name": "stdout",
     "output_type": "stream",
     "text": [
      "epoch: 30, train_loss: 0.006575552438553746, train_acc: 0.9979166666666667\n"
     ]
    },
    {
     "name": "stderr",
     "output_type": "stream",
     "text": [
      "epoch: 30, Validation: 100%|██████████| 750/750 [00:01<00:00, 580.38it/s]"
     ]
    },
    {
     "name": "stdout",
     "output_type": "stream",
     "text": [
      "epoch: 30, val_loss: 0.18147696985641032, val_acc: 0.9613333333333334\n"
     ]
    },
    {
     "name": "stderr",
     "output_type": "stream",
     "text": [
      "\n"
     ]
    }
   ],
   "source": [
    "train_len = len(hc3_train['y'])\n",
    "val_len = len(hc3_val['y'])\n",
    "epochs = 30\n",
    "train_loss = []\n",
    "val_loss = []\n",
    "train_acc = []\n",
    "val_acc = []\n",
    "val_max_acc = -1\n",
    "writer = SummaryWriter('logs/mix'+ datetime.now().strftime(\"%Y%m%d-%H%M%S\"))\n",
    "for epoch in range(epochs):\n",
    "    # 训练集\n",
    "    gcnmodel.train()\n",
    "    epoch_loss = 0.0\n",
    "    correct_predictions = 0\n",
    "    for i in tqdm(range(train_len),  f\"epoch: {epoch+1}, Training\"):\n",
    "        data = Data(x=hc3_train['all_token_embeddings'][i], edge_index=hc3_train['all_edge_index'][i], y=hc3_train['y'][i])\n",
    "        optimizer.zero_grad()\n",
    "        outputs = gcnmodel(data)\n",
    "        # loss = criterion(outputs, data.y.float().view(-1, 1))\n",
    "        loss = CE_criterion(outputs, data.y.long().view(-1, 1).squeeze(0))\n",
    "        # print(loss)\n",
    "        loss.backward()\n",
    "        optimizer.step()\n",
    "        epoch_loss += loss.item()\n",
    "        _, predictions = torch.max(outputs, 1) \n",
    "        correct_predictions += (predictions == data.y).sum().item()\n",
    "    epoch_loss /= train_len\n",
    "    writer.add_scalar('Loss/train', epoch_loss, epoch)\n",
    "    epoch_acc = correct_predictions / train_len\n",
    "    writer.add_scalar('Acc/train', epoch_acc, epoch)\n",
    "    print(f\"epoch: {epoch+1}, train_loss: {epoch_loss}, train_acc: {epoch_acc}\")\n",
    "    train_loss.append(epoch_loss)\n",
    "    train_acc.append(epoch_acc)\n",
    "    \n",
    "    # 验证集\n",
    "    gcnmodel.eval()\n",
    "    epoch_loss = 0.0\n",
    "    correct_predictions = 0\n",
    "    all_predictions = []\n",
    "    with torch.no_grad():\n",
    "        for i in tqdm(range(val_len),  f\"epoch: {epoch+1}, Validation\"):\n",
    "            data = Data(x=hc3_val['all_token_embeddings'][i], edge_index=hc3_val['all_edge_index'][i], y=hc3_val['y'][i])\n",
    "            outputs = gcnmodel(data)\n",
    "            # loss = criterion(outputs, data.y.float().view(-1, 1))\n",
    "            loss = CE_criterion(outputs, data.y.long().view(-1, 1).squeeze(0))\n",
    "            epoch_loss += loss.item()\n",
    "            _, predictions = torch.max(outputs, 1) \n",
    "            correct_predictions += (predictions == data.y).sum().item()\n",
    "            all_predictions.append(predictions)\n",
    "    epoch_loss /= val_len\n",
    "    writer.add_scalar('Loss/val', epoch_loss, epoch)\n",
    "    epoch_acc = correct_predictions / val_len\n",
    "    writer.add_scalar('Acc/val', epoch_acc, epoch)\n",
    "    print(f\"epoch: {epoch+1}, val_loss: {epoch_loss}, val_acc: {epoch_acc}\")\n",
    "    val_loss.append(epoch_loss)\n",
    "    val_acc.append(epoch_acc)\n",
    "\n",
    "    if epoch_acc >= val_max_acc:\n",
    "        val_max_acc = epoch_acc\n",
    "        torch.save(gcnmodel.state_dict(), './model/mix_gcn_model.pth')\n",
    "\n",
    "writer.close()"
   ]
  },
  {
   "cell_type": "markdown",
   "metadata": {},
   "source": [
    "#### 测试"
   ]
  },
  {
   "cell_type": "code",
   "execution_count": 12,
   "metadata": {},
   "outputs": [],
   "source": [
    "import pickle\n",
    "test_file = \"mix_test\"\n",
    "with open(f\"/root/autodl-tmp/graph_data/{test_file}.pkl\", \"rb\") as f:\n",
    "    hc3_test = pickle.load(f)\n",
    "test_len = len(hc3_test['y'])"
   ]
  },
  {
   "cell_type": "code",
   "execution_count": 24,
   "metadata": {
    "tags": []
   },
   "outputs": [
    {
     "name": "stderr",
     "output_type": "stream",
     "text": [
      "Test: 100%|██████████| 750/750 [00:01<00:00, 570.34it/s]"
     ]
    },
    {
     "name": "stdout",
     "output_type": "stream",
     "text": [
      "test_loss: 0.12448984051934489, test_acc: 0.9693333333333334, test_f1: 0.9693918394675536\n"
     ]
    },
    {
     "name": "stderr",
     "output_type": "stream",
     "text": [
      "\n"
     ]
    }
   ],
   "source": [
    "from sklearn.metrics import roc_auc_score, f1_score\n",
    "\n",
    "test_gcnmodel = GCNMulticlass(input_dim, hidden_dim2, output_dim, 3)\n",
    "# test_gcnmodel = gcnmodel\n",
    "test_gcnmodel.load_state_dict(torch.load('./model/mix_gcn_model.pth'))\n",
    "test_gcnmodel.eval()\n",
    "test_loss = 0.0\n",
    "correct_predictions = 0\n",
    "y_pred = list()\n",
    "with torch.no_grad():\n",
    "    for i in tqdm(range(test_len),  f\"Test\"):\n",
    "        data = Data(x=hc3_test['all_token_embeddings'][i], edge_index=hc3_test['all_edge_index'][i], y=hc3_test['y'][i])\n",
    "        outputs = test_gcnmodel(data)\n",
    "        loss = CE_criterion(outputs, data.y.long().view(-1, 1).squeeze(0))\n",
    "        test_loss += loss.item()\n",
    "        _, predictions = torch.max(outputs, 1) \n",
    "        correct_predictions += (predictions == data.y).sum().item()\n",
    "        y_pred.append(predictions.item())\n",
    "y_true = hc3_test['y']\n",
    "test_loss /= test_len\n",
    "test_acc = correct_predictions / test_len\n",
    "test_f1 = f1_score(y_true, y_pred, average='weighted')\n",
    "print(f\"test_loss: {test_loss}, test_acc: {test_acc}, test_f1: {test_f1}\")"
   ]
  },
  {
   "cell_type": "code",
   "execution_count": 25,
   "metadata": {},
   "outputs": [],
   "source": [
    "with open(f\"/root/autodl-tmp/result/test_result.txt\", \"a\", encoding=\"utf-8\") as w:\n",
    "    w.write(f\"{test_file}\\tacc: {test_acc}\\tf1: {test_f1}\\t{datetime.now()}\\n\")"
   ]
  },
  {
   "cell_type": "code",
   "execution_count": null,
   "metadata": {},
   "outputs": [],
   "source": []
  }
 ],
 "metadata": {
  "kernelspec": {
   "display_name": "Python 3 (ipykernel)",
   "language": "python",
   "name": "python3"
  },
  "language_info": {
   "codemirror_mode": {
    "name": "ipython",
    "version": 3
   },
   "file_extension": ".py",
   "mimetype": "text/x-python",
   "name": "python",
   "nbconvert_exporter": "python",
   "pygments_lexer": "ipython3",
   "version": "3.8.10"
  }
 },
 "nbformat": 4,
 "nbformat_minor": 4
}
