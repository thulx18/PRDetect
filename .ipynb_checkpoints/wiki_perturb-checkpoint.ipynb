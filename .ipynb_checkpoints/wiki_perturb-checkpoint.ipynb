{
 "cells": [
  {
   "cell_type": "code",
   "execution_count": 1,
   "id": "7c14fe69-87eb-4be1-8395-1116a956f3d5",
   "metadata": {},
   "outputs": [],
   "source": [
    "import pickle\n",
    "import json\n",
    "import re\n",
    "import random\n",
    "from tqdm import tqdm\n",
    "from nltk.tokenize import word_tokenize\n",
    "from collections import Counter\n",
    "\n"
   ]
  },
  {
   "cell_type": "code",
   "execution_count": 2,
   "id": "26bd3ea2-cec7-4d07-8319-a91baac17700",
   "metadata": {},
   "outputs": [
    {
     "name": "stdout",
     "output_type": "stream",
     "text": [
      "/root/robust\n"
     ]
    }
   ],
   "source": [
    "import os\n",
    "print(os.getcwd())"
   ]
  },
  {
   "cell_type": "code",
   "execution_count": 3,
   "id": "59c58629-8b59-432c-9a6c-ebffa5414a31",
   "metadata": {},
   "outputs": [
    {
     "name": "stdout",
     "output_type": "stream",
     "text": [
      "39611095\n"
     ]
    }
   ],
   "source": [
    "# 从本地文件加载 Counter 对象\n",
    "with open('/root/autodl-tmp/4grams_0_100000.pkl', 'rb') as f:\n",
    "    loaded_counter = pickle.load(f)\n",
    "\n",
    "print(len(loaded_counter.items()))"
   ]
  },
  {
   "cell_type": "code",
   "execution_count": 4,
   "id": "acbb8261-85a8-485b-a8d8-dbf291e0df04",
   "metadata": {
    "tags": []
   },
   "outputs": [
    {
     "name": "stdout",
     "output_type": "stream",
     "text": [
      "66527\n"
     ]
    }
   ],
   "source": [
    "s = 0\n",
    "replace_dict = dict()\n",
    "max_count = dict()\n",
    "for four_gram, count in loaded_counter.items():\n",
    "    # 修改频率\n",
    "    if count > 20:\n",
    "        # print(four_gram, count)\n",
    "        t03 = (four_gram[0].lower(),four_gram[3].lower())\n",
    "        t12 = (four_gram[1],four_gram[2])\n",
    "        if t03 in max_count:\n",
    "            if count > max_count[t03]:\n",
    "                max_count[t03] = count\n",
    "                replace_dict[t03] = t12\n",
    "        else:\n",
    "            max_count[t03] = count\n",
    "            replace_dict[t03] = t12\n",
    "        s += 1\n",
    "print(s)"
   ]
  },
  {
   "cell_type": "code",
   "execution_count": 5,
   "id": "c767c94a-1073-43a2-98eb-e23611816638",
   "metadata": {
    "tags": []
   },
   "outputs": [
    {
     "data": {
      "text/plain": [
       "29194"
      ]
     },
     "execution_count": 5,
     "metadata": {},
     "output_type": "execute_result"
    }
   ],
   "source": [
    "len(replace_dict)"
   ]
  },
  {
   "cell_type": "code",
   "execution_count": 11,
   "id": "b0ca03a2-f7f9-4e16-9464-4d4135e577dd",
   "metadata": {},
   "outputs": [
    {
     "data": {
      "text/plain": [
       "5000"
      ]
     },
     "execution_count": 11,
     "metadata": {},
     "output_type": "execute_result"
    }
   ],
   "source": [
    "def split_sentences(text):\n",
    "    # 构建正则表达式，匹配任意标点符号或者连续多个空格\n",
    "    pattern = r'[.!\\?]'\n",
    "    \n",
    "    # 使用split函数根据正则表达式切分文本\n",
    "    sentences = re.split(pattern, text)\n",
    "    \n",
    "    sentences = [sentence.strip() for sentence in sentences if sentence.strip()]\n",
    "    \n",
    "    return sentences\n",
    "\n",
    "texts = []\n",
    "# with open(\"/root/robust/original_text/hc3human_gpt2.json\", \"r\", encoding=\"utf-8\") as f:\n",
    "#     for line in f.readlines():\n",
    "#         line = json.loads(line)\n",
    "#         if line['label'] == \"gpt2\":\n",
    "#             texts.append(line['text'])\n",
    "with open(\"/root/robust/original_text/llama2_gen.txt\", \"r\", encoding=\"utf-8\") as f:\n",
    "    for line in f.readlines():\n",
    "        texts.append(line.strip())\n",
    "len(texts)"
   ]
  },
  {
   "cell_type": "code",
   "execution_count": null,
   "id": "72feea05-259a-49ea-9c3a-1fe8ed62c925",
   "metadata": {},
   "outputs": [],
   "source": [
    "with open(\"/root/robust/original_text/llama2_gen.txt\", \"w\", encoding=\"utf-8\") as w:\n",
    "    for line in f.readlines():\n",
    "        texts.append(line.strip())"
   ]
  },
  {
   "cell_type": "code",
   "execution_count": 7,
   "id": "5f546dc8-ee13-43e0-aa26-f931866f8002",
   "metadata": {},
   "outputs": [
    {
     "data": {
      "text/plain": [
       "'There are many different best practices for how to write a good essay. The first step is to choose a topic that interests you. This will make the writing process much easier. The next step is to create an outline. This will help you organize your thoughts and keep track of your ideas. Once you have an outline, it’s time to start writing. Be sure to include all of the information that you have gathered in your outline. Finally, proofread your essay for grammar and spelling errors. This will help ensure that your essay is error-free and professional. How to Write a Good Essay: 10 Tips 1. Choose a topic that interests you. 2. Create an outline. 3. Write your essay. 4. Proofread your essay for grammar and spelling errors. 5. Submit your essay. 6. Wait for feedback. 7. Revise your essay based on feedback. 8. Submit your revised essay. 9. Wait for feedback again. 10. Revise your essay one last time based on feedback. How to Write a Good Essay: 10 T'"
      ]
     },
     "execution_count": 7,
     "metadata": {},
     "output_type": "execute_result"
    }
   ],
   "source": [
    "texts[0]"
   ]
  },
  {
   "cell_type": "code",
   "execution_count": 8,
   "id": "eaf4312e-d393-41d5-84ca-a501e56e924f",
   "metadata": {},
   "outputs": [
    {
     "name": "stderr",
     "output_type": "stream",
     "text": [
      "100%|██████████| 5000/5000 [00:08<00:00, 587.68it/s]\n"
     ]
    }
   ],
   "source": [
    "random.seed(42)\n",
    "label = \"llama2_4gram_20_wiki_replace\"\n",
    "\n",
    "new_texts = list()\n",
    "for text in tqdm(texts):\n",
    "    sentences = split_sentences(text)\n",
    "    new_sentences = list()\n",
    "    for sentence in sentences:\n",
    "        words = word_tokenize(sentence)\n",
    "        # print(words)\n",
    "        if len(words) >= 5:\n",
    "            i = 0\n",
    "            while i < len(words) - 4:\n",
    "                for j in range(i+2, i+4):\n",
    "                    t = words[i].lower(), words[j].lower()\n",
    "                    if t in replace_dict:\n",
    "                        # print(t, replace_dict[t])\n",
    "                        if random.random() < 0.20:\n",
    "                            # print(t, replace_dict[t])\n",
    "                            for k in range(i+1, j):\n",
    "                                # print(i,j)\n",
    "                                words.pop(i+1)\n",
    "                            for k in range(2):\n",
    "                                words.insert(i+1+k, replace_dict[t][k])\n",
    "                                \n",
    "                        i = i + 4\n",
    "                        break\n",
    "                i += 1\n",
    "        \n",
    "        new_words = \" \".join(words)\n",
    "        new_sentences.append(new_words)\n",
    "    new_text = \". \".join(new_sentences)\n",
    "    # print(new_text)\n",
    "    new_texts.append(new_text)"
   ]
  },
  {
   "cell_type": "code",
   "execution_count": 9,
   "id": "c08dc21a-98fa-497e-9e65-59f3ff3f8ff4",
   "metadata": {},
   "outputs": [
    {
     "data": {
      "text/plain": [
       "\"There are many different best practices for his contributions to write a good essay. The first step is to choose a topic that interests you. This will make the writing process much easier. The next step is to create an outline. This will help you organize your thoughts and keep track of your ideas. Once you have an outline , it 's About time to start writing. Be sure to include all of the fact that you have gathered in your outline. Finally , proofread your essay for grammar and spelling errors. This will help ensure that `` there is error-free and professional. How to serve as a Good Essay : 10 Tips 1. Choose a topic that interests you. 2. Create an outline. 3. Write your essay. 4. Proofread your essay for grammar and spelling errors. 5. Submit your essay. 6. Wait for feedback. 7. Revise your essay based on feedback. 8. Submit your revised essay. 9. Wait for feedback again. 10. Revise your essay one last time based on feedback. How to Write a Good Essay : 10 T\""
      ]
     },
     "execution_count": 9,
     "metadata": {},
     "output_type": "execute_result"
    }
   ],
   "source": [
    "new_texts[0]"
   ]
  },
  {
   "cell_type": "code",
   "execution_count": 10,
   "id": "ca44804b-40b4-47d1-9e7d-e3bbdaa09e1a",
   "metadata": {},
   "outputs": [],
   "source": [
    "with open(f\"/root/robust/perturbed_text/{label}.json\", \"w\", encoding = \"utf-8\") as w:\n",
    "    for text in new_texts:\n",
    "        w.write(json.dumps({\"text\": text, \"label\": label}))\n",
    "        w.write(\"\\n\")"
   ]
  },
  {
   "cell_type": "code",
   "execution_count": null,
   "id": "d5799741-ce9e-40a6-94e3-f65c3ef2a7ba",
   "metadata": {},
   "outputs": [],
   "source": []
  }
 ],
 "metadata": {
  "kernelspec": {
   "display_name": "Python 3 (ipykernel)",
   "language": "python",
   "name": "python3"
  },
  "language_info": {
   "codemirror_mode": {
    "name": "ipython",
    "version": 3
   },
   "file_extension": ".py",
   "mimetype": "text/x-python",
   "name": "python",
   "nbconvert_exporter": "python",
   "pygments_lexer": "ipython3",
   "version": "3.8.10"
  }
 },
 "nbformat": 4,
 "nbformat_minor": 5
}
