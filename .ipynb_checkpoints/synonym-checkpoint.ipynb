{
 "cells": [
  {
   "cell_type": "code",
   "execution_count": 1,
   "id": "7c14fe69-87eb-4be1-8395-1116a956f3d5",
   "metadata": {},
   "outputs": [],
   "source": [
    "import json\n",
    "import re\n",
    "from nltk.corpus import wordnet\n",
    "from tqdm import tqdm"
   ]
  },
  {
   "cell_type": "code",
   "execution_count": 2,
   "id": "d49a3ade-2f8b-4636-95f0-fd54dd7279bd",
   "metadata": {},
   "outputs": [
    {
     "name": "stdout",
     "output_type": "stream",
     "text": [
      "6000\n"
     ]
    },
    {
     "name": "stderr",
     "output_type": "stream",
     "text": [
      "100%|██████████| 6000/6000 [00:02<00:00, 2380.46it/s]\n"
     ]
    },
    {
     "name": "stdout",
     "output_type": "stream",
     "text": [
      "6000\n"
     ]
    },
    {
     "name": "stderr",
     "output_type": "stream",
     "text": [
      "100%|██████████| 6000/6000 [00:01<00:00, 5287.41it/s]\n"
     ]
    },
    {
     "name": "stdout",
     "output_type": "stream",
     "text": [
      "6000\n"
     ]
    },
    {
     "name": "stderr",
     "output_type": "stream",
     "text": [
      "100%|██████████| 6000/6000 [00:02<00:00, 2750.93it/s]\n"
     ]
    },
    {
     "name": "stdout",
     "output_type": "stream",
     "text": [
      "6000\n"
     ]
    },
    {
     "name": "stderr",
     "output_type": "stream",
     "text": [
      "100%|██████████| 6000/6000 [00:02<00:00, 2122.48it/s]\n"
     ]
    }
   ],
   "source": [
    "L= [5,10,20,30]\n",
    "label = \"gpt3.5_mixed_train\"\n",
    "for p in L:\n",
    "    texts = []\n",
    "    labels = []\n",
    "    with open(f\"perturbed_text/{label}_adj_{p}.json\", \"r\", encoding = \"utf-8\") as f:\n",
    "        for line in f.readlines():\n",
    "            line = json.loads(line)\n",
    "            texts.append(line['text'])\n",
    "            labels.append(line['label'])\n",
    "    print(len(texts))\n",
    "    with open(f\"perturbed_text/{label}_adj_{p}_synonym_replace.json\", \"w\", encoding = \"utf-8\") as w:\n",
    "        for i in tqdm(range(len(texts))):\n",
    "            text = texts[i]\n",
    "            new_words = []\n",
    "            matches = re.findall(r'\\[\\[(.*?)\\]\\]', text)\n",
    "            # print(matches)\n",
    "            for word in matches:\n",
    "                synonyms = []\n",
    "                try:\n",
    "                    for syn in wordnet.synsets(word):\n",
    "                        for lemma in syn.lemmas():\n",
    "                            synonyms.append(lemma.name())\n",
    "                    synonyms = set(synonyms)\n",
    "                    synonyms.discard(word)\n",
    "                    new_words.append(list(synonyms)[0])\n",
    "                except:\n",
    "                    new_words.append(word)\n",
    "\n",
    "            # print(new_words)\n",
    "            for old_word, new_word in zip(matches, new_words):\n",
    "                if old_word[0].isupper():\n",
    "                    new_word = new_word.capitalize()\n",
    "                text = text.replace(f'[[{old_word}]]', new_word)\n",
    "            w.write(json.dumps({\"text\": text, \"label\": labels[i]}))\n",
    "            w.write(\"\\n\")"
   ]
  },
  {
   "cell_type": "code",
   "execution_count": null,
   "id": "ded8e8b8-c66b-4b35-b0a0-84622b0729c3",
   "metadata": {},
   "outputs": [],
   "source": []
  }
 ],
 "metadata": {
  "kernelspec": {
   "display_name": "Python 3 (ipykernel)",
   "language": "python",
   "name": "python3"
  },
  "language_info": {
   "codemirror_mode": {
    "name": "ipython",
    "version": 3
   },
   "file_extension": ".py",
   "mimetype": "text/x-python",
   "name": "python",
   "nbconvert_exporter": "python",
   "pygments_lexer": "ipython3",
   "version": "3.8.10"
  }
 },
 "nbformat": 4,
 "nbformat_minor": 5
}
