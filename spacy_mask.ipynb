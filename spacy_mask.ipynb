{
 "cells": [
  {
   "cell_type": "code",
   "execution_count": 1,
   "metadata": {},
   "outputs": [
    {
     "data": {
      "text/plain": [
       "'3.7.4'"
      ]
     },
     "execution_count": 1,
     "metadata": {},
     "output_type": "execute_result"
    }
   ],
   "source": [
    "import spacy\n",
    "import json\n",
    "import random\n",
    "from tqdm import tqdm\n",
    "\n",
    "random.seed(42)\n",
    "\n",
    "spacy.__version__"
   ]
  },
  {
   "cell_type": "code",
   "execution_count": 2,
   "metadata": {},
   "outputs": [],
   "source": [
    "# 加载英文模型\n",
    "nlp = spacy.load('en_core_web_sm')"
   ]
  },
  {
   "cell_type": "code",
   "execution_count": 3,
   "metadata": {},
   "outputs": [
    {
     "name": "stdout",
     "output_type": "stream",
     "text": [
      "The DET\n",
      "quick ADJ\n",
      "brown ADJ\n",
      "fox NOUN\n",
      "jumps VERB\n",
      "over ADP\n",
      "the DET\n",
      "lazy ADJ\n",
      "dog NOUN\n",
      ". PUNCT\n"
     ]
    }
   ],
   "source": [
    "doc = nlp(\"The quick brown fox jumps over the lazy dog.\")\n",
    "for token in doc:\n",
    "    print(token.text, token.pos_)"
   ]
  },
  {
   "cell_type": "code",
   "execution_count": 4,
   "metadata": {},
   "outputs": [
    {
     "data": {
      "text/plain": [
       "6000"
      ]
     },
     "execution_count": 4,
     "metadata": {},
     "output_type": "execute_result"
    }
   ],
   "source": [
    "texts = []\n",
    "labels = []\n",
    "with open(\"original_text/gpt3.5_mixed_train_split.json\", \"r\", encoding=\"utf-8\") as f:\n",
    "    for line in f.readlines():\n",
    "        line = json.loads(line)\n",
    "        texts.append(line['text'])\n",
    "        labels.append(line['label'])\n",
    "len(texts)"
   ]
  },
  {
   "cell_type": "code",
   "execution_count": 5,
   "metadata": {},
   "outputs": [
    {
     "name": "stderr",
     "output_type": "stream",
     "text": [
      "100%|██████████| 6000/6000 [07:28<00:00, 13.37it/s]\n",
      "100%|██████████| 6000/6000 [07:12<00:00, 13.86it/s]\n",
      "100%|██████████| 6000/6000 [07:12<00:00, 13.87it/s]\n",
      "100%|██████████| 6000/6000 [07:12<00:00, 13.86it/s]\n"
     ]
    }
   ],
   "source": [
    "L = [5,10,20,30]\n",
    "for p in L:\n",
    "    random.seed(42)\n",
    "    with open(f\"perturbed_text/gpt3.5_mixed_train_adj_{p}.json\", \"w\", encoding=\"utf-8\") as w:\n",
    "        for i in tqdm(range(len(texts))):\n",
    "            doc = nlp(texts[i])\n",
    "            new_text = \" \".join([\"[[\"+token.text+\"]]\" if token.pos_ == \"ADJ\" and random.random() < p/100 else token.text for token in doc])\n",
    "            w.write(json.dumps({\"text\": new_text, \"label\": labels[i]}))\n",
    "            w.write(\"\\n\")"
   ]
  },
  {
   "cell_type": "code",
   "execution_count": null,
   "metadata": {},
   "outputs": [],
   "source": []
  }
 ],
 "metadata": {
  "kernelspec": {
   "display_name": "Python 3 (ipykernel)",
   "language": "python",
   "name": "python3"
  },
  "language_info": {
   "codemirror_mode": {
    "name": "ipython",
    "version": 3
   },
   "file_extension": ".py",
   "mimetype": "text/x-python",
   "name": "python",
   "nbconvert_exporter": "python",
   "pygments_lexer": "ipython3",
   "version": "3.8.10"
  }
 },
 "nbformat": 4,
 "nbformat_minor": 4
}
